{
  "cells": [
    {
      "cell_type": "markdown",
      "metadata": {
        "id": "view-in-github",
        "colab_type": "text"
      },
      "source": [
        "<a href=\"https://colab.research.google.com/github/andrewmk/d3-examples/blob/main/d3_magic.ipynb\" target=\"_parent\"><img src=\"https://colab.research.google.com/assets/colab-badge.svg\" alt=\"Open In Colab\"/></a>"
      ]
    },
    {
      "cell_type": "markdown",
      "id": "f2eae9fd-0382-4e0c-9c41-103bbf712350",
      "metadata": {
        "jp-MarkdownHeadingCollapsed": true,
        "tags": [],
        "id": "f2eae9fd-0382-4e0c-9c41-103bbf712350"
      },
      "source": [
        "# Create d3 magic"
      ]
    },
    {
      "cell_type": "code",
      "execution_count": 2,
      "id": "1cf78511-7906-41d4-94d7-5c3337276888",
      "metadata": {
        "id": "1cf78511-7906-41d4-94d7-5c3337276888"
      },
      "outputs": [],
      "source": [
        "from urllib.parse import quote\n",
        "from IPython.core.magic import register_cell_magic\n",
        "from IPython.core.magic_arguments import argument, magic_arguments, parse_argstring\n",
        "from IPython.display import HTML\n",
        "\n",
        "\n",
        "@magic_arguments()\n",
        "@argument('-h', '--height', default='350px', help='Height of the output area')\n",
        "@argument('-w', '--width', default='100%', help='Width of the output area')\n",
        "@argument('-s', '--style', default='border: none', help='Style of the output area')\n",
        "@argument('-v', '--version', default='7.2.1', help='D3.js version')\n",
        "@argument('-i', '--integrity', default=None, help='Integrity hash for d3.js; when changing version provide one for security')\n",
        "@argument('-c', '--cdn', default='https://cdnjs.cloudflare.com/ajax/libs/d3', help='CDN address')\n",
        "@register_cell_magic\n",
        "def d3(line, cell):\n",
        "    args = parse_argstring(d3, line)\n",
        "    known_versions = {\n",
        "        '4.13.0': 'sha512-RJJ1NNC88QhN7dwpCY8rm/6OxI+YdQP48DrLGe/eSAd+n+s1PXwQkkpzzAgoJe4cZFW2GALQoxox61gSY2yQfg==',\n",
        "        '7.2.1':  'sha512-wkduu4oQG74ySorPiSRStC0Zl8rQfjr/Ty6dMvYTmjZw6RS5bferdx8TR7ynxeh79ySEp/benIFFisKofMjPbg==' \n",
        "    }\n",
        "    if not args.integrity:\n",
        "        args.integrity = known_versions.get(args.version, '')\n",
        "        \n",
        "    integrity = 'integrity=\"{}\"'.format(args.integrity) if args.integrity else ''\n",
        "\n",
        "    content = quote(\n",
        "        \"\"\"\n",
        "        <html>\n",
        "            <body>\n",
        "            <script src='{args.cdn}/{args.version}/d3.min.js' {integrity} crossorigin=\"anonymous\"></script>\n",
        "            <script src='https://d3js.org/d3-selection-multi.v1.min.js' crossorigin=\"anonymous\"></script>\n",
        "            <script>document.body.onload = function () {{ {code} }}</script>\n",
        "            </body>\n",
        "        </html>\n",
        "        \"\"\".format(code=cell, args=args, integrity=integrity),\n",
        "        safe=''\n",
        "    )\n",
        "    html = \"\"\"\n",
        "    <iframe\n",
        "        style=\"{args.style}\"\n",
        "        width=\"{args.width}\"\n",
        "        height=\"{args.height}\"\n",
        "        sandbox=\"allow-scripts allow-modals\"\n",
        "        referrerpolicy=\"no-referrer\"\n",
        "        src=\"data:text/html;charset=UTF-8,{content}\"\n",
        "    ></iframe>\n",
        "    \"\"\".format(content=content, args=args)\n",
        "    return HTML(html)"
      ]
    },
    {
      "cell_type": "markdown",
      "id": "058accd4-3fa7-44ff-ac27-57262002a034",
      "metadata": {
        "jp-MarkdownHeadingCollapsed": true,
        "tags": [],
        "id": "058accd4-3fa7-44ff-ac27-57262002a034"
      },
      "source": [
        "# Basics"
      ]
    },
    {
      "cell_type": "markdown",
      "id": "e8bc7087-1641-44a8-a409-8f093dc40783",
      "metadata": {
        "jp-MarkdownHeadingCollapsed": true,
        "tags": [],
        "id": "e8bc7087-1641-44a8-a409-8f093dc40783"
      },
      "source": [
        "## Check version being used"
      ]
    },
    {
      "cell_type": "code",
      "execution_count": null,
      "id": "fa18ab60-3c1d-4b42-bccc-a13565a3da64",
      "metadata": {
        "id": "fa18ab60-3c1d-4b42-bccc-a13565a3da64",
        "outputId": "f0aa3265-de15-43fb-b809-de5fab976f2c"
      },
      "outputs": [
        {
          "data": {
            "text/html": [
              "\n",
              "    <iframe\n",
              "        style=\"border: none\"\n",
              "        width=\"100%\"\n",
              "        height=\"30\"\n",
              "        sandbox=\"allow-scripts allow-modals\"\n",
              "        referrerpolicy=\"no-referrer\"\n",
              "        src=\"data:text/html;charset=UTF-8,%0A%20%20%20%20%20%20%20%20%3Chtml%3E%0A%20%20%20%20%20%20%20%20%20%20%20%20%3Cbody%3E%0A%20%20%20%20%20%20%20%20%20%20%20%20%3Cscript%20src%3D%27https%3A%2F%2Fcdnjs.cloudflare.com%2Fajax%2Flibs%2Fd3%2F7.2.1%2Fd3.min.js%27%20integrity%3D%22sha512-wkduu4oQG74ySorPiSRStC0Zl8rQfjr%2FTy6dMvYTmjZw6RS5bferdx8TR7ynxeh79ySEp%2FbenIFFisKofMjPbg%3D%3D%22%20crossorigin%3D%22anonymous%22%3E%3C%2Fscript%3E%0A%20%20%20%20%20%20%20%20%20%20%20%20%3Cscript%20src%3D%27https%3A%2F%2Fd3js.org%2Fd3-selection-multi.v1.min.js%27%20crossorigin%3D%22anonymous%22%3E%3C%2Fscript%3E%0A%20%20%20%20%20%20%20%20%20%20%20%20%3Cscript%3Edocument.body.onload%20%3D%20function%20%28%29%20%7B%20d3.select%28%22body%22%29.text%28d3.version%29%0A%20%7D%3C%2Fscript%3E%0A%20%20%20%20%20%20%20%20%20%20%20%20%3C%2Fbody%3E%0A%20%20%20%20%20%20%20%20%3C%2Fhtml%3E%0A%20%20%20%20%20%20%20%20\"\n",
              "    ></iframe>\n",
              "    "
            ],
            "text/plain": [
              "<IPython.core.display.HTML object>"
            ]
          },
          "execution_count": 181,
          "metadata": {},
          "output_type": "execute_result"
        }
      ],
      "source": [
        "%%d3 -h 30\n",
        "d3.select(\"body\").text(d3.version)"
      ]
    },
    {
      "cell_type": "markdown",
      "id": "e1dff2a1-5a13-4782-954b-7f35ce3d21fd",
      "metadata": {
        "jp-MarkdownHeadingCollapsed": true,
        "tags": [],
        "id": "e1dff2a1-5a13-4782-954b-7f35ce3d21fd"
      },
      "source": [
        "## Hello World"
      ]
    },
    {
      "cell_type": "code",
      "execution_count": null,
      "id": "8e945e74-1d2e-4d78-9abc-5b9cb1687cd9",
      "metadata": {
        "id": "8e945e74-1d2e-4d78-9abc-5b9cb1687cd9",
        "outputId": "d44aac33-492e-49e3-cf59-6247ccd2c453"
      },
      "outputs": [
        {
          "data": {
            "text/html": [
              "\n",
              "    <iframe\n",
              "        style=\"border: none\"\n",
              "        width=\"100%\"\n",
              "        height=\"40\"\n",
              "        sandbox=\"allow-scripts allow-modals\"\n",
              "        referrerpolicy=\"no-referrer\"\n",
              "        src=\"data:text/html;charset=UTF-8,%0A%20%20%20%20%20%20%20%20%3Chtml%3E%0A%20%20%20%20%20%20%20%20%20%20%20%20%3Cbody%3E%0A%20%20%20%20%20%20%20%20%20%20%20%20%3Cscript%20src%3D%27https%3A%2F%2Fcdnjs.cloudflare.com%2Fajax%2Flibs%2Fd3%2F7.2.1%2Fd3.min.js%27%20integrity%3D%22sha512-wkduu4oQG74ySorPiSRStC0Zl8rQfjr%2FTy6dMvYTmjZw6RS5bferdx8TR7ynxeh79ySEp%2FbenIFFisKofMjPbg%3D%3D%22%20crossorigin%3D%22anonymous%22%3E%3C%2Fscript%3E%0A%20%20%20%20%20%20%20%20%20%20%20%20%3Cscript%20src%3D%27https%3A%2F%2Fd3js.org%2Fd3-selection-multi.v1.min.js%27%20crossorigin%3D%22anonymous%22%3E%3C%2Fscript%3E%0A%20%20%20%20%20%20%20%20%20%20%20%20%3Cscript%3Edocument.body.onload%20%3D%20function%20%28%29%20%7B%20d3.select%28%27body%27%29%0A%20.append%28%27h1%27%29%0A%20.text%28%27Hello%20World%21%27%29%3B%0A%20%7D%3C%2Fscript%3E%0A%20%20%20%20%20%20%20%20%20%20%20%20%3C%2Fbody%3E%0A%20%20%20%20%20%20%20%20%3C%2Fhtml%3E%0A%20%20%20%20%20%20%20%20\"\n",
              "    ></iframe>\n",
              "    "
            ],
            "text/plain": [
              "<IPython.core.display.HTML object>"
            ]
          },
          "execution_count": 182,
          "metadata": {},
          "output_type": "execute_result"
        }
      ],
      "source": [
        "%%d3 -h 40\n",
        "d3.select('body')\n",
        " .append('h1')\n",
        " .text('Hello World!');"
      ]
    },
    {
      "cell_type": "markdown",
      "id": "3f39911e-f01f-4f25-88b4-7312306592ba",
      "metadata": {
        "jp-MarkdownHeadingCollapsed": true,
        "tags": [],
        "id": "3f39911e-f01f-4f25-88b4-7312306592ba"
      },
      "source": [
        "## Animated circle test"
      ]
    },
    {
      "cell_type": "code",
      "execution_count": null,
      "id": "a5483f56-f57a-404b-b0c9-1e7012f38707",
      "metadata": {
        "id": "a5483f56-f57a-404b-b0c9-1e7012f38707",
        "outputId": "a7aace6c-14aa-4b39-e4cd-00fcfae48556"
      },
      "outputs": [
        {
          "data": {
            "text/html": [
              "\n",
              "    <iframe\n",
              "        style=\"\"border: 1\"\"\n",
              "        width=\"100%\"\n",
              "        height=\"350px\"\n",
              "        sandbox=\"allow-scripts allow-modals\"\n",
              "        referrerpolicy=\"no-referrer\"\n",
              "        src=\"data:text/html;charset=UTF-8,%0A%20%20%20%20%20%20%20%20%3Chtml%3E%0A%20%20%20%20%20%20%20%20%20%20%20%20%3Cbody%3E%0A%20%20%20%20%20%20%20%20%20%20%20%20%3Cscript%20src%3D%27https%3A%2F%2Fcdnjs.cloudflare.com%2Fajax%2Flibs%2Fd3%2F7.2.1%2Fd3.min.js%27%20integrity%3D%22sha512-wkduu4oQG74ySorPiSRStC0Zl8rQfjr%2FTy6dMvYTmjZw6RS5bferdx8TR7ynxeh79ySEp%2FbenIFFisKofMjPbg%3D%3D%22%20crossorigin%3D%22anonymous%22%3E%3C%2Fscript%3E%0A%20%20%20%20%20%20%20%20%20%20%20%20%3Cscript%20src%3D%27https%3A%2F%2Fd3js.org%2Fd3-selection-multi.v1.min.js%27%20crossorigin%3D%22anonymous%22%3E%3C%2Fscript%3E%0A%20%20%20%20%20%20%20%20%20%20%20%20%3Cscript%3Edocument.body.onload%20%3D%20function%20%28%29%20%7B%20var%20svg%20%3D%20d3.select%28%22body%22%29%0A%20%20%20%20.append%28%22svg%22%29%0A%20%20%20%20.attr%28%22width%22%2C%20300%29%0A%20%20%20%20.attr%28%22height%22%2C%20300%29%3B%20%20%20%20%0A%0Asvg.append%28%22circle%22%29%0A%20%20%20%20.style%28%22stroke%22%2C%20%22gray%22%29%0A%20%20%20%20.style%28%22fill%22%2C%20%22cyan%22%29%0A%20%20%20%20.attr%28%22r%22%2C%20130%29%0A%20%20%20%20.attr%28%22cx%22%2C%20150%29%0A%20%20%20%20.attr%28%22cy%22%2C%20150%29%0A%20%20%20%20.transition%28%29%0A%20%20%20%20%20%20%20%20.delay%28100%29%0A%20%20%20%20%20%20%20%20.duration%2810000%29%20%20%0A%20%20%20%20%20%20%20%20.attr%28%22r%22%2C%2010%29%0A%20%20%20%20%20%20%20%20.attr%28%22cx%22%2C%20150%29%0A%20%20%20%20%20%20%20%20.style%28%22fill%22%2C%20%22blue%22%29%3B%20%0A%20%7D%3C%2Fscript%3E%0A%20%20%20%20%20%20%20%20%20%20%20%20%3C%2Fbody%3E%0A%20%20%20%20%20%20%20%20%3C%2Fhtml%3E%0A%20%20%20%20%20%20%20%20\"\n",
              "    ></iframe>\n",
              "    "
            ],
            "text/plain": [
              "<IPython.core.display.HTML object>"
            ]
          },
          "execution_count": 183,
          "metadata": {},
          "output_type": "execute_result"
        }
      ],
      "source": [
        "%%d3 -s \"border: 1\"\n",
        "var svg = d3.select(\"body\")\n",
        "    .append(\"svg\")\n",
        "    .attr(\"width\", 300)\n",
        "    .attr(\"height\", 300);    \n",
        "\n",
        "svg.append(\"circle\")\n",
        "    .style(\"stroke\", \"gray\")\n",
        "    .style(\"fill\", \"cyan\")\n",
        "    .attr(\"r\", 130)\n",
        "    .attr(\"cx\", 150)\n",
        "    .attr(\"cy\", 150)\n",
        "    .transition()\n",
        "        .delay(100)\n",
        "        .duration(10000)  \n",
        "        .attr(\"r\", 10)\n",
        "        .attr(\"cx\", 150)\n",
        "        .style(\"fill\", \"blue\"); "
      ]
    },
    {
      "cell_type": "markdown",
      "id": "db778000-d180-407f-9596-cfdd4d98fb92",
      "metadata": {
        "jp-MarkdownHeadingCollapsed": true,
        "tags": [],
        "id": "db778000-d180-407f-9596-cfdd4d98fb92"
      },
      "source": [
        "## Test data binding"
      ]
    },
    {
      "cell_type": "code",
      "execution_count": null,
      "id": "995a00a0-b206-45c7-9d1b-310d0140d3fb",
      "metadata": {
        "id": "995a00a0-b206-45c7-9d1b-310d0140d3fb",
        "outputId": "4990f5dc-b2e8-4f8d-c5df-96e499b507ef"
      },
      "outputs": [
        {
          "data": {
            "text/html": [
              "\n",
              "    <iframe\n",
              "        style=\"border: none\"\n",
              "        width=\"100%\"\n",
              "        height=\"80\"\n",
              "        sandbox=\"allow-scripts allow-modals\"\n",
              "        referrerpolicy=\"no-referrer\"\n",
              "        src=\"data:text/html;charset=UTF-8,%0A%20%20%20%20%20%20%20%20%3Chtml%3E%0A%20%20%20%20%20%20%20%20%20%20%20%20%3Cbody%3E%0A%20%20%20%20%20%20%20%20%20%20%20%20%3Cscript%20src%3D%27https%3A%2F%2Fcdnjs.cloudflare.com%2Fajax%2Flibs%2Fd3%2F7.2.1%2Fd3.min.js%27%20integrity%3D%22sha512-wkduu4oQG74ySorPiSRStC0Zl8rQfjr%2FTy6dMvYTmjZw6RS5bferdx8TR7ynxeh79ySEp%2FbenIFFisKofMjPbg%3D%3D%22%20crossorigin%3D%22anonymous%22%3E%3C%2Fscript%3E%0A%20%20%20%20%20%20%20%20%20%20%20%20%3Cscript%20src%3D%27https%3A%2F%2Fd3js.org%2Fd3-selection-multi.v1.min.js%27%20crossorigin%3D%22anonymous%22%3E%3C%2Fscript%3E%0A%20%20%20%20%20%20%20%20%20%20%20%20%3Cscript%3Edocument.body.onload%20%3D%20function%20%28%29%20%7B%20var%20selector%20%3D%20d3.select%28%27body%27%29%0A%20.selectAll%28%27div%27%29%0A%20.data%28%5B10%2C%2020%2C%2030%2C%2040%5D%29%3B%0A%0Avar%20entering%20%3D%20selector.enter%28%29%3B%0A%0Aentering.append%28%27div%27%29.text%28function%28d%29%20%7B%20return%20%27hello%20%27%20%2B%20d%3B%20%7D%29%3B%0A%20%7D%3C%2Fscript%3E%0A%20%20%20%20%20%20%20%20%20%20%20%20%3C%2Fbody%3E%0A%20%20%20%20%20%20%20%20%3C%2Fhtml%3E%0A%20%20%20%20%20%20%20%20\"\n",
              "    ></iframe>\n",
              "    "
            ],
            "text/plain": [
              "<IPython.core.display.HTML object>"
            ]
          },
          "execution_count": 184,
          "metadata": {},
          "output_type": "execute_result"
        }
      ],
      "source": [
        "%%d3 -v 7.2.1 -h 80\n",
        "var selector = d3.select('body')\n",
        " .selectAll('div')\n",
        " .data([10, 20, 30, 40]);\n",
        "\n",
        "var entering = selector.enter();\n",
        "\n",
        "entering.append('div').text(function(d) { return 'hello ' + d; });\n"
      ]
    },
    {
      "cell_type": "markdown",
      "id": "9c3375fe-6ca3-43f2-8fc4-079ebccbde05",
      "metadata": {
        "jp-MarkdownHeadingCollapsed": true,
        "tags": [],
        "id": "9c3375fe-6ca3-43f2-8fc4-079ebccbde05"
      },
      "source": [
        "## Test updating values"
      ]
    },
    {
      "cell_type": "code",
      "execution_count": null,
      "id": "598a2596-37b1-416d-947c-0e0e8b56ae3a",
      "metadata": {
        "id": "598a2596-37b1-416d-947c-0e0e8b56ae3a",
        "outputId": "74365b6f-d04a-46bf-e9e6-d5f6bacf9439"
      },
      "outputs": [
        {
          "data": {
            "text/html": [
              "\n",
              "    <iframe\n",
              "        style=\"border: none\"\n",
              "        width=\"100%\"\n",
              "        height=\"180\"\n",
              "        sandbox=\"allow-scripts allow-modals\"\n",
              "        referrerpolicy=\"no-referrer\"\n",
              "        src=\"data:text/html;charset=UTF-8,%0A%20%20%20%20%20%20%20%20%3Chtml%3E%0A%20%20%20%20%20%20%20%20%20%20%20%20%3Cbody%3E%0A%20%20%20%20%20%20%20%20%20%20%20%20%3Cscript%20src%3D%27https%3A%2F%2Fcdnjs.cloudflare.com%2Fajax%2Flibs%2Fd3%2F7.2.1%2Fd3.min.js%27%20integrity%3D%22sha512-wkduu4oQG74ySorPiSRStC0Zl8rQfjr%2FTy6dMvYTmjZw6RS5bferdx8TR7ynxeh79ySEp%2FbenIFFisKofMjPbg%3D%3D%22%20crossorigin%3D%22anonymous%22%3E%3C%2Fscript%3E%0A%20%20%20%20%20%20%20%20%20%20%20%20%3Cscript%20src%3D%27https%3A%2F%2Fd3js.org%2Fd3-selection-multi.v1.min.js%27%20crossorigin%3D%22anonymous%22%3E%3C%2Fscript%3E%0A%20%20%20%20%20%20%20%20%20%20%20%20%3Cscript%3Edocument.body.onload%20%3D%20function%20%28%29%20%7B%20function%20log%28msg%29%20%7B%0A%20%20%20%20d3.select%28%27body%27%29.select%28%27div%23log%27%29.append%28%27p%27%29.text%28msg%29%3B%0A%7D%0A%0Afunction%20setupHtml%28%29%20%7B%0A%20%20%20%20d3.select%28%27body%27%29.append%28%27div%27%29.attr%28%27id%27%2C%20%27charts%27%29%3B%0A%20%20%20%20var%20button%20%3D%20d3.select%28%27body%27%29.append%28%27button%27%29.text%28%27Modify%27%29.on%28%27click%27%2C%20modify%2C%20%27onclick%27%29%3B%0A%20%20%20%20d3.select%28%27body%27%29.append%28%27div%27%29.attr%28%27id%27%2C%20%27log%27%29%3B%20%20%20%0A%7D%0A%0Afunction%20modify%28%29%20%7B%0A%20%20%20%20render%28%5B20%2C%2030%2C%2050%5D%2C%20%27onclick%27%29%3B%0A%7D%0A%0Afunction%20render%28dataToRender%2C%20msg%3D%27%27%29%20%7B%0A%20%20%20%20log%28%60in%20render%20function%3A%20%24%7Bmsg%7D%60%29%3B%0A%20%20%20%20var%20selector%20%3D%20d3.select%28%27body%27%29.select%28%27div%23charts%27%29.selectAll%28%27div%27%29.data%28dataToRender%29%3B%0A%20%20%20%20var%20entering%20%3D%20selector.enter%28%29%3B%0A%20%20%20%20log%28%60selector%3A%20%24%7Bselector.size%28%29%7D%2C%20entering%3A%20%24%7Bentering.size%28%29%7D%60%29%3B%0A%20%20%20%20entering.append%28%27div%27%29.text%28function%28d%29%20%7B%20return%20d%3B%20%7D%29%3B%0A%20%20%20%20%0A%20%20%20%20selector.text%28function%28d%29%20%7B%20return%20d%3B%20%7D%29%3B%0A%7D%0A%0AsetupHtml%28%29%3B%0Arender%28%5B10%2C%2020%2C%2030%5D%2C%20%27first%27%29%3B%0A%20%7D%3C%2Fscript%3E%0A%20%20%20%20%20%20%20%20%20%20%20%20%3C%2Fbody%3E%0A%20%20%20%20%20%20%20%20%3C%2Fhtml%3E%0A%20%20%20%20%20%20%20%20\"\n",
              "    ></iframe>\n",
              "    "
            ],
            "text/plain": [
              "<IPython.core.display.HTML object>"
            ]
          },
          "execution_count": 185,
          "metadata": {},
          "output_type": "execute_result"
        }
      ],
      "source": [
        "%%d3 -v 7.2.1 -h 180\n",
        "function log(msg) {\n",
        "    d3.select('body').select('div#log').append('p').text(msg);\n",
        "}\n",
        "\n",
        "function setupHtml() {\n",
        "    d3.select('body').append('div').attr('id', 'charts');\n",
        "    var button = d3.select('body').append('button').text('Modify').on('click', modify, 'onclick');\n",
        "    d3.select('body').append('div').attr('id', 'log');   \n",
        "}\n",
        "\n",
        "function modify() {\n",
        "    render([20, 30, 50], 'onclick');\n",
        "}\n",
        "\n",
        "function render(dataToRender, msg='') {\n",
        "    log(`in render function: ${msg}`);\n",
        "    var selector = d3.select('body').select('div#charts').selectAll('div').data(dataToRender);\n",
        "    var entering = selector.enter();\n",
        "    log(`selector: ${selector.size()}, entering: ${entering.size()}`);\n",
        "    entering.append('div').text(function(d) { return d; });\n",
        "    \n",
        "    selector.text(function(d) { return d; });\n",
        "}\n",
        "\n",
        "setupHtml();\n",
        "render([10, 20, 30], 'first');"
      ]
    },
    {
      "cell_type": "markdown",
      "id": "58de95a6-6177-4795-bea0-6a40041e3fb2",
      "metadata": {
        "jp-MarkdownHeadingCollapsed": true,
        "tags": [],
        "id": "58de95a6-6177-4795-bea0-6a40041e3fb2"
      },
      "source": [
        "## Test removing values"
      ]
    },
    {
      "cell_type": "code",
      "execution_count": null,
      "id": "ad05aa4a-39b8-4b44-9901-4343c4ae7c3e",
      "metadata": {
        "id": "ad05aa4a-39b8-4b44-9901-4343c4ae7c3e",
        "outputId": "2562079f-c1fa-4c48-a115-70cf83cf5c75"
      },
      "outputs": [
        {
          "data": {
            "text/html": [
              "\n",
              "    <iframe\n",
              "        style=\"border: none\"\n",
              "        width=\"100%\"\n",
              "        height=\"220\"\n",
              "        sandbox=\"allow-scripts allow-modals\"\n",
              "        referrerpolicy=\"no-referrer\"\n",
              "        src=\"data:text/html;charset=UTF-8,%0A%20%20%20%20%20%20%20%20%3Chtml%3E%0A%20%20%20%20%20%20%20%20%20%20%20%20%3Cbody%3E%0A%20%20%20%20%20%20%20%20%20%20%20%20%3Cscript%20src%3D%27https%3A%2F%2Fcdnjs.cloudflare.com%2Fajax%2Flibs%2Fd3%2F7.2.1%2Fd3.min.js%27%20integrity%3D%22sha512-wkduu4oQG74ySorPiSRStC0Zl8rQfjr%2FTy6dMvYTmjZw6RS5bferdx8TR7ynxeh79ySEp%2FbenIFFisKofMjPbg%3D%3D%22%20crossorigin%3D%22anonymous%22%3E%3C%2Fscript%3E%0A%20%20%20%20%20%20%20%20%20%20%20%20%3Cscript%20src%3D%27https%3A%2F%2Fd3js.org%2Fd3-selection-multi.v1.min.js%27%20crossorigin%3D%22anonymous%22%3E%3C%2Fscript%3E%0A%20%20%20%20%20%20%20%20%20%20%20%20%3Cscript%3Edocument.body.onload%20%3D%20function%20%28%29%20%7B%20function%20log%28msg%29%20%7B%0A%20%20%20%20d3.select%28%27body%27%29.select%28%27div%23log%27%29.append%28%27p%27%29.text%28msg%29%3B%0A%7D%0A%0Afunction%20setupHtml%28%29%20%7B%0A%20%20%20%20html%3D%60%0A%20%20%20%20%20%20%20%20%3Cdiv%20id%3D%27charts%27%3E%0A%20%20%20%20%20%20%20%20%3C%2Fdiv%3E%0A%20%20%20%20%20%20%20%20%3Cdiv%20id%3D%27log%27%3E%0A%20%20%20%20%20%20%20%20%3C%2Fdiv%3E%0A%20%20%20%20%60%3B%0A%20%20%20%20d3.select%28%27body%27%29.append%28%27button%27%29.text%28%27Modify%27%29.on%28%27click%27%2C%20modify%2C%20%27onclick%27%29%3B%0A%20%20%20%20d3.select%28%27body%27%29.append%28%27div%27%29.html%28html%29%3B%0A%7D%0A%0Afunction%20modify%28%29%20%7B%0A%20%20%20%20render%28%5B5%2C%2015%5D%2C%20%27onclick%27%29%3B%0A%7D%0A%0Afunction%20render%28dataToRender%2C%20msg%3D%27%27%29%20%7B%0A%20%20%20%20log%28%60in%20render%20function%3A%20%24%7Bmsg%7D%60%29%3B%0A%20%20%20%20var%20selector%20%3D%20d3.select%28%27body%27%29.select%28%27div%23charts%27%29.selectAll%28%27div%27%29.data%28dataToRender%29%3B%0A%20%20%20%20var%20entering%20%3D%20selector.enter%28%29%3B%0A%20%20%20%20var%20exiting%20%3D%20selector.exit%28%29%3B%0A%20%20%20%20log%28%60selector%3A%20%24%7Bselector.size%28%29%7D%2C%20entering%3A%20%24%7Bentering.size%28%29%7D%2C%20exiting%3A%20%24%7Bexiting.size%28%29%7D%60%29%3B%0A%20%20%20%20%0A%20%20%20%20entering.append%28%27div%27%29.text%28function%28d%29%20%7B%20return%20d%3B%20%7D%29%3B%0A%20%20%20%20%0A%20%20%20%20selector.text%28function%28d%29%20%7B%20return%20d%3B%20%7D%29%3B%0A%20%20%20%20%0A%20%20%20%20exiting.remove%28%29%3B%0A%7D%0A%0AsetupHtml%28%29%3B%0Arender%28%5B10%2C%2020%2C%2030%5D%2C%20%27first%27%29%3B%0A%20%7D%3C%2Fscript%3E%0A%20%20%20%20%20%20%20%20%20%20%20%20%3C%2Fbody%3E%0A%20%20%20%20%20%20%20%20%3C%2Fhtml%3E%0A%20%20%20%20%20%20%20%20\"\n",
              "    ></iframe>\n",
              "    "
            ],
            "text/plain": [
              "<IPython.core.display.HTML object>"
            ]
          },
          "execution_count": 186,
          "metadata": {},
          "output_type": "execute_result"
        }
      ],
      "source": [
        "%%d3 -h 220\n",
        "function log(msg) {\n",
        "    d3.select('body').select('div#log').append('p').text(msg);\n",
        "}\n",
        "\n",
        "function setupHtml() {\n",
        "    html=`\n",
        "        <div id='charts'>\n",
        "        </div>\n",
        "        <div id='log'>\n",
        "        </div>\n",
        "    `;\n",
        "    d3.select('body').append('button').text('Modify').on('click', modify, 'onclick');\n",
        "    d3.select('body').append('div').html(html);\n",
        "}\n",
        "\n",
        "function modify() {\n",
        "    render([5, 15], 'onclick');\n",
        "}\n",
        "\n",
        "function render(dataToRender, msg='') {\n",
        "    log(`in render function: ${msg}`);\n",
        "    var selector = d3.select('body').select('div#charts').selectAll('div').data(dataToRender);\n",
        "    var entering = selector.enter();\n",
        "    var exiting = selector.exit();\n",
        "    log(`selector: ${selector.size()}, entering: ${entering.size()}, exiting: ${exiting.size()}`);\n",
        "    \n",
        "    entering.append('div').text(function(d) { return d; });\n",
        "    \n",
        "    selector.text(function(d) { return d; });\n",
        "    \n",
        "    exiting.remove();\n",
        "}\n",
        "\n",
        "setupHtml();\n",
        "render([10, 20, 30], 'first');"
      ]
    },
    {
      "cell_type": "markdown",
      "id": "cfbe36b7-c737-405e-aa67-07386c6e6ff5",
      "metadata": {
        "jp-MarkdownHeadingCollapsed": true,
        "tags": [],
        "id": "cfbe36b7-c737-405e-aa67-07386c6e6ff5"
      },
      "source": [
        "# SVG"
      ]
    },
    {
      "cell_type": "code",
      "execution_count": null,
      "id": "d5131e43-bc9e-4729-882d-7504538f664e",
      "metadata": {
        "id": "d5131e43-bc9e-4729-882d-7504538f664e",
        "outputId": "66a34463-9a4b-4ad7-e230-120637503b57"
      },
      "outputs": [
        {
          "data": {
            "text/html": [
              "\n",
              "    <iframe\n",
              "        style=\"\"border\"\"\n",
              "        width=\"100%\"\n",
              "        height=\"140\"\n",
              "        sandbox=\"allow-scripts allow-modals\"\n",
              "        referrerpolicy=\"no-referrer\"\n",
              "        src=\"data:text/html;charset=UTF-8,%0A%20%20%20%20%20%20%20%20%3Chtml%3E%0A%20%20%20%20%20%20%20%20%20%20%20%20%3Cbody%3E%0A%20%20%20%20%20%20%20%20%20%20%20%20%3Cscript%20src%3D%27https%3A%2F%2Fcdnjs.cloudflare.com%2Fajax%2Flibs%2Fd3%2F7.2.1%2Fd3.min.js%27%20integrity%3D%22sha512-wkduu4oQG74ySorPiSRStC0Zl8rQfjr%2FTy6dMvYTmjZw6RS5bferdx8TR7ynxeh79ySEp%2FbenIFFisKofMjPbg%3D%3D%22%20crossorigin%3D%22anonymous%22%3E%3C%2Fscript%3E%0A%20%20%20%20%20%20%20%20%20%20%20%20%3Cscript%20src%3D%27https%3A%2F%2Fd3js.org%2Fd3-selection-multi.v1.min.js%27%20crossorigin%3D%22anonymous%22%3E%3C%2Fscript%3E%0A%20%20%20%20%20%20%20%20%20%20%20%20%3Cscript%3Edocument.body.onload%20%3D%20function%20%28%29%20%7B%20%0Afunction%20setupHtml%28%29%20%7B%0A%20%20%20%20html%3D%60%0A%20%20%20%20%20%20%20%20%3Csvg%20width%3D%22720%22%20height%3D%22120%22%3E%0A%20%20%20%20%20%20%20%20%20%20%20%20%3Ccircle%20cx%3D%2240%22%20cy%3D%2220%22%20r%3D%2210%22%20style%3D%22fill%3Ared%22%3E%3C%2Fcircle%3E%0A%20%20%20%20%20%20%20%20%20%20%20%20%3Ccircle%20cx%3D%2280%22%20cy%3D%2240%22%20r%3D%2215%22%20style%3D%22fill%3Agreen%22%3E%3C%2Fcircle%3E%0A%20%20%20%20%20%20%20%20%20%20%20%20%3Ccircle%20cx%3D%22120%22%20cy%3D%2260%22%20r%3D%2220%22%20style%3D%22fill%3Ablue%22%3E%3C%2Fcircle%3E%0A%20%20%20%20%20%20%20%20%3C%2Fsvg%3E%0A%20%20%20%20%60%3B%0A%20%20%20%20d3.select%28%27body%27%29.append%28%27div%27%29.html%28html%29%3B%0A%7D%0A%0AsetupHtml%28%29%3B%0A%20%7D%3C%2Fscript%3E%0A%20%20%20%20%20%20%20%20%20%20%20%20%3C%2Fbody%3E%0A%20%20%20%20%20%20%20%20%3C%2Fhtml%3E%0A%20%20%20%20%20%20%20%20\"\n",
              "    ></iframe>\n",
              "    "
            ],
            "text/plain": [
              "<IPython.core.display.HTML object>"
            ]
          },
          "execution_count": 187,
          "metadata": {},
          "output_type": "execute_result"
        }
      ],
      "source": [
        "%%d3 -h 140 -s \"border\"\n",
        "\n",
        "function setupHtml() {\n",
        "    html=`\n",
        "        <svg width=\"720\" height=\"120\">\n",
        "            <circle cx=\"40\" cy=\"20\" r=\"10\" style=\"fill:red\"></circle>\n",
        "            <circle cx=\"80\" cy=\"40\" r=\"15\" style=\"fill:green\"></circle>\n",
        "            <circle cx=\"120\" cy=\"60\" r=\"20\" style=\"fill:blue\"></circle>\n",
        "        </svg>\n",
        "    `;\n",
        "    d3.select('body').append('div').html(html);\n",
        "}\n",
        "\n",
        "setupHtml();"
      ]
    },
    {
      "cell_type": "code",
      "execution_count": null,
      "id": "4e9a6326-0b42-4b7b-b083-47c014652801",
      "metadata": {
        "id": "4e9a6326-0b42-4b7b-b083-47c014652801",
        "outputId": "fea78267-3643-4b19-f5d1-02f461d406d9"
      },
      "outputs": [
        {
          "data": {
            "text/html": [
              "\n",
              "    <iframe\n",
              "        style=\"\"border\"\"\n",
              "        width=\"100%\"\n",
              "        height=\"140\"\n",
              "        sandbox=\"allow-scripts allow-modals\"\n",
              "        referrerpolicy=\"no-referrer\"\n",
              "        src=\"data:text/html;charset=UTF-8,%0A%20%20%20%20%20%20%20%20%3Chtml%3E%0A%20%20%20%20%20%20%20%20%20%20%20%20%3Cbody%3E%0A%20%20%20%20%20%20%20%20%20%20%20%20%3Cscript%20src%3D%27https%3A%2F%2Fcdnjs.cloudflare.com%2Fajax%2Flibs%2Fd3%2F7.2.1%2Fd3.min.js%27%20integrity%3D%22sha512-wkduu4oQG74ySorPiSRStC0Zl8rQfjr%2FTy6dMvYTmjZw6RS5bferdx8TR7ynxeh79ySEp%2FbenIFFisKofMjPbg%3D%3D%22%20crossorigin%3D%22anonymous%22%3E%3C%2Fscript%3E%0A%20%20%20%20%20%20%20%20%20%20%20%20%3Cscript%20src%3D%27https%3A%2F%2Fd3js.org%2Fd3-selection-multi.v1.min.js%27%20crossorigin%3D%22anonymous%22%3E%3C%2Fscript%3E%0A%20%20%20%20%20%20%20%20%20%20%20%20%3Cscript%3Edocument.body.onload%20%3D%20function%20%28%29%20%7B%20%0Afunction%20setupHtml%28%29%20%7B%0A%20%20%20%20html%3D%60%0A%20%20%20%20%20%20%20%20%3Csvg%20width%3D%22720%22%20height%3D%22120%22%3E%0A%20%20%20%20%20%20%20%20%20%20%20%20%3Ccircle%20cx%3D%2240%22%20cy%3D%2220%22%20r%3D%2210%22%20style%3D%22fill%3Ared%22%3E%3C%2Fcircle%3E%0A%20%20%20%20%20%20%20%20%20%20%20%20%3Ccircle%20cx%3D%2280%22%20cy%3D%2240%22%20r%3D%2215%22%20style%3D%22fill%3Agreen%22%3E%3C%2Fcircle%3E%0A%20%20%20%20%20%20%20%20%20%20%20%20%3Ccircle%20cx%3D%22120%22%20cy%3D%2260%22%20r%3D%2220%22%20style%3D%22fill%3Ablue%22%3E%3C%2Fcircle%3E%0A%20%20%20%20%20%20%20%20%3C%2Fsvg%3E%0A%20%20%20%20%60%3B%0A%20%20%20%20d3.select%28%27body%27%29.append%28%27div%27%29.html%28html%29%3B%0A%7D%0A%0AsetupHtml%28%29%3B%0Ad3.select%28%27body%27%29.selectAll%28%27circle%27%29.style%28%27fill%27%2C%20%27teal%27%29%3B%0A%20%7D%3C%2Fscript%3E%0A%20%20%20%20%20%20%20%20%20%20%20%20%3C%2Fbody%3E%0A%20%20%20%20%20%20%20%20%3C%2Fhtml%3E%0A%20%20%20%20%20%20%20%20\"\n",
              "    ></iframe>\n",
              "    "
            ],
            "text/plain": [
              "<IPython.core.display.HTML object>"
            ]
          },
          "execution_count": 188,
          "metadata": {},
          "output_type": "execute_result"
        }
      ],
      "source": [
        "%%d3 -h 140 -s \"border\"\n",
        "\n",
        "function setupHtml() {\n",
        "    html=`\n",
        "        <svg width=\"720\" height=\"120\">\n",
        "            <circle cx=\"40\" cy=\"20\" r=\"10\" style=\"fill:red\"></circle>\n",
        "            <circle cx=\"80\" cy=\"40\" r=\"15\" style=\"fill:green\"></circle>\n",
        "            <circle cx=\"120\" cy=\"60\" r=\"20\" style=\"fill:blue\"></circle>\n",
        "        </svg>\n",
        "    `;\n",
        "    d3.select('body').append('div').html(html);\n",
        "}\n",
        "\n",
        "setupHtml();\n",
        "d3.select('body').selectAll('circle').style('fill', 'teal');"
      ]
    },
    {
      "cell_type": "code",
      "execution_count": null,
      "id": "22784226-38c8-47a3-9d18-ea4b54e69328",
      "metadata": {
        "id": "22784226-38c8-47a3-9d18-ea4b54e69328",
        "outputId": "1b1f46dc-24a5-4e77-b9c6-16110be03a59"
      },
      "outputs": [
        {
          "data": {
            "text/html": [
              "\n",
              "    <iframe\n",
              "        style=\"\"border\"\"\n",
              "        width=\"100%\"\n",
              "        height=\"140\"\n",
              "        sandbox=\"allow-scripts allow-modals\"\n",
              "        referrerpolicy=\"no-referrer\"\n",
              "        src=\"data:text/html;charset=UTF-8,%0A%20%20%20%20%20%20%20%20%3Chtml%3E%0A%20%20%20%20%20%20%20%20%20%20%20%20%3Cbody%3E%0A%20%20%20%20%20%20%20%20%20%20%20%20%3Cscript%20src%3D%27https%3A%2F%2Fcdnjs.cloudflare.com%2Fajax%2Flibs%2Fd3%2F7.2.1%2Fd3.min.js%27%20integrity%3D%22sha512-wkduu4oQG74ySorPiSRStC0Zl8rQfjr%2FTy6dMvYTmjZw6RS5bferdx8TR7ynxeh79ySEp%2FbenIFFisKofMjPbg%3D%3D%22%20crossorigin%3D%22anonymous%22%3E%3C%2Fscript%3E%0A%20%20%20%20%20%20%20%20%20%20%20%20%3Cscript%20src%3D%27https%3A%2F%2Fd3js.org%2Fd3-selection-multi.v1.min.js%27%20crossorigin%3D%22anonymous%22%3E%3C%2Fscript%3E%0A%20%20%20%20%20%20%20%20%20%20%20%20%3Cscript%3Edocument.body.onload%20%3D%20function%20%28%29%20%7B%20%0Afunction%20setupHtml%28%29%20%7B%0A%20%20%20%20html%3D%60%0A%20%20%20%20%20%20%20%20%3Csvg%20width%3D%22720%22%20height%3D%22120%22%3E%0A%20%20%20%20%20%20%20%20%20%20%20%20%3Cline%20x1%3D%2210%22%20y1%3D%2220%22%20x2%3D%22110%22%20y2%3D%22100%22%0A%20%20%20%20%20%20%20%20%20%20%20%20%20stroke%3D%22red%22%20stroke-width%3D%2220%22%20stroke-linecap%3D%22butt%22%20%2F%3E%0A%20%20%20%20%20%20%20%20%20%20%20%20%3Cline%20x1%3D%2260%22%20y1%3D%2220%22%20x2%3D%22160%22%20y2%3D%22100%22%0A%20%20%20%20%20%20%20%20%20%20%20%20%20stroke%3D%22green%22%20stroke-width%3D%2220%22%20stroke-linecap%3D%22square%22%20%2F%3E%0A%20%20%20%20%20%20%20%20%20%20%20%20%3Cline%20x1%3D%22110%22%20y1%3D%2220%22%20x2%3D%22210%22%20y2%3D%22100%22%0A%20%20%20%20%20%20%20%20%20%20%20%20%20stroke%3D%22blue%22%20stroke-width%3D%2220%22%20stroke-linecap%3D%22round%22%20%2F%3E%0A%20%20%20%20%20%20%20%20%20%20%20%20%3Cpath%20d%3D%22M%2010%2020%20L%20110%20100%20M%2060%2020%20L%20160%20100%20M%20110%2020%20L%20210%20100%22%0A%20%20%20%20%20%20%20%20%20%20%20%20%20stroke%3D%22white%22%20%2F%3E%0A%20%20%20%20%20%20%20%20%3C%2Fsvg%3E%0A%20%20%20%20%60%3B%0A%20%20%20%20d3.select%28%27body%27%29.append%28%27div%27%29.html%28html%29%3B%0A%7D%0A%0AsetupHtml%28%29%3B%0A%20%7D%3C%2Fscript%3E%0A%20%20%20%20%20%20%20%20%20%20%20%20%3C%2Fbody%3E%0A%20%20%20%20%20%20%20%20%3C%2Fhtml%3E%0A%20%20%20%20%20%20%20%20\"\n",
              "    ></iframe>\n",
              "    "
            ],
            "text/plain": [
              "<IPython.core.display.HTML object>"
            ]
          },
          "execution_count": 189,
          "metadata": {},
          "output_type": "execute_result"
        }
      ],
      "source": [
        "%%d3 -h 140 -s \"border\"\n",
        "\n",
        "function setupHtml() {\n",
        "    html=`\n",
        "        <svg width=\"720\" height=\"120\">\n",
        "            <line x1=\"10\" y1=\"20\" x2=\"110\" y2=\"100\"\n",
        "             stroke=\"red\" stroke-width=\"20\" stroke-linecap=\"butt\" />\n",
        "            <line x1=\"60\" y1=\"20\" x2=\"160\" y2=\"100\"\n",
        "             stroke=\"green\" stroke-width=\"20\" stroke-linecap=\"square\" />\n",
        "            <line x1=\"110\" y1=\"20\" x2=\"210\" y2=\"100\"\n",
        "             stroke=\"blue\" stroke-width=\"20\" stroke-linecap=\"round\" />\n",
        "            <path d=\"M 10 20 L 110 100 M 60 20 L 160 100 M 110 20 L 210 100\"\n",
        "             stroke=\"white\" />\n",
        "        </svg>\n",
        "    `;\n",
        "    d3.select('body').append('div').html(html);\n",
        "}\n",
        "\n",
        "setupHtml();"
      ]
    },
    {
      "cell_type": "code",
      "execution_count": null,
      "id": "bd9cfee9-4985-4181-bb1b-acf5250f1b0a",
      "metadata": {
        "id": "bd9cfee9-4985-4181-bb1b-acf5250f1b0a",
        "outputId": "62341c14-ea6c-4596-8c69-1d9be7286605"
      },
      "outputs": [
        {
          "data": {
            "text/html": [
              "\n",
              "    <iframe\n",
              "        style=\"\"border\"\"\n",
              "        width=\"100%\"\n",
              "        height=\"180\"\n",
              "        sandbox=\"allow-scripts allow-modals\"\n",
              "        referrerpolicy=\"no-referrer\"\n",
              "        src=\"data:text/html;charset=UTF-8,%0A%20%20%20%20%20%20%20%20%3Chtml%3E%0A%20%20%20%20%20%20%20%20%20%20%20%20%3Cbody%3E%0A%20%20%20%20%20%20%20%20%20%20%20%20%3Cscript%20src%3D%27https%3A%2F%2Fcdnjs.cloudflare.com%2Fajax%2Flibs%2Fd3%2F7.2.1%2Fd3.min.js%27%20integrity%3D%22sha512-wkduu4oQG74ySorPiSRStC0Zl8rQfjr%2FTy6dMvYTmjZw6RS5bferdx8TR7ynxeh79ySEp%2FbenIFFisKofMjPbg%3D%3D%22%20crossorigin%3D%22anonymous%22%3E%3C%2Fscript%3E%0A%20%20%20%20%20%20%20%20%20%20%20%20%3Cscript%20src%3D%27https%3A%2F%2Fd3js.org%2Fd3-selection-multi.v1.min.js%27%20crossorigin%3D%22anonymous%22%3E%3C%2Fscript%3E%0A%20%20%20%20%20%20%20%20%20%20%20%20%3Cscript%3Edocument.body.onload%20%3D%20function%20%28%29%20%7B%20%0Afunction%20setupHtml%28%29%20%7B%0A%20%20%20%20html%3D%60%0A%20%20%20%20%20%20%20%20%3Csvg%20width%3D%22720%22%20height%3D%22160%22%3E%0A%20%20%20%20%20%20%20%20%20%20%20%20%3Crect%20x%3D%220%22%20y%3D%220%22%20width%3D%22100%22%20height%3D%22100%22%20fill%3D%22red%22%0A%20%20%20%20%20%20%20%20%20%20%20%20%20%20%20%20%20transform%3D%22translate%2830%2C30%29%20rotate%2845%2C50%2C50%29%22%20%2F%3E%0A%20%20%20%20%20%20%20%20%3C%2Fsvg%3E%0A%20%20%20%20%60%3B%0A%20%20%20%20d3.select%28%27body%27%29.append%28%27div%27%29.html%28html%29%3B%0A%7D%0A%0AsetupHtml%28%29%3B%0A%20%7D%3C%2Fscript%3E%0A%20%20%20%20%20%20%20%20%20%20%20%20%3C%2Fbody%3E%0A%20%20%20%20%20%20%20%20%3C%2Fhtml%3E%0A%20%20%20%20%20%20%20%20\"\n",
              "    ></iframe>\n",
              "    "
            ],
            "text/plain": [
              "<IPython.core.display.HTML object>"
            ]
          },
          "execution_count": 190,
          "metadata": {},
          "output_type": "execute_result"
        }
      ],
      "source": [
        "%%d3 -h 180 -s \"border\"\n",
        "\n",
        "function setupHtml() {\n",
        "    html=`\n",
        "        <svg width=\"720\" height=\"160\">\n",
        "            <rect x=\"0\" y=\"0\" width=\"100\" height=\"100\" fill=\"red\"\n",
        "                 transform=\"translate(30,30) rotate(45,50,50)\" />\n",
        "        </svg>\n",
        "    `;\n",
        "    d3.select('body').append('div').html(html);\n",
        "}\n",
        "\n",
        "setupHtml();"
      ]
    },
    {
      "cell_type": "code",
      "execution_count": null,
      "id": "365afe0f-2faf-407e-922f-eae5d2c96174",
      "metadata": {
        "id": "365afe0f-2faf-407e-922f-eae5d2c96174",
        "outputId": "3efa39e4-6451-4bd7-c993-9909d902fc60"
      },
      "outputs": [
        {
          "data": {
            "text/html": [
              "\n",
              "    <iframe\n",
              "        style=\"\"border\"\"\n",
              "        width=\"100%\"\n",
              "        height=\"180\"\n",
              "        sandbox=\"allow-scripts allow-modals\"\n",
              "        referrerpolicy=\"no-referrer\"\n",
              "        src=\"data:text/html;charset=UTF-8,%0A%20%20%20%20%20%20%20%20%3Chtml%3E%0A%20%20%20%20%20%20%20%20%20%20%20%20%3Cbody%3E%0A%20%20%20%20%20%20%20%20%20%20%20%20%3Cscript%20src%3D%27https%3A%2F%2Fcdnjs.cloudflare.com%2Fajax%2Flibs%2Fd3%2F7.2.1%2Fd3.min.js%27%20integrity%3D%22sha512-wkduu4oQG74ySorPiSRStC0Zl8rQfjr%2FTy6dMvYTmjZw6RS5bferdx8TR7ynxeh79ySEp%2FbenIFFisKofMjPbg%3D%3D%22%20crossorigin%3D%22anonymous%22%3E%3C%2Fscript%3E%0A%20%20%20%20%20%20%20%20%20%20%20%20%3Cscript%20src%3D%27https%3A%2F%2Fd3js.org%2Fd3-selection-multi.v1.min.js%27%20crossorigin%3D%22anonymous%22%3E%3C%2Fscript%3E%0A%20%20%20%20%20%20%20%20%20%20%20%20%3Cscript%3Edocument.body.onload%20%3D%20function%20%28%29%20%7B%20%0Afunction%20setupHtml%28%29%20%7B%0A%20%20%20%20html%3D%60%0A%20%20%20%20%20%20%20%20%3Csvg%3E%0A%20%20%20%20%20%20%20%20%20%20%20%20%3Crect%20x%3D%220%22%20y%3D%220%22%20width%3D%2250%22%20height%3D%2250%22%20fill%3D%22green%22%2F%3E%0A%20%20%20%20%20%20%20%20%20%20%20%20%3Cg%20transform%3D%22translate%28100%2C30%29%20rotate%2845%2050%2050%29%22%3E%0A%20%20%20%20%20%20%20%20%20%20%20%20%20%20%20%20%20%3Crect%20x%3D%220%22%20y%3D%220%22%20width%3D%22100%22%20height%3D%22100%22%20style%3D%22fill%3Ablue%22%20%2F%3E%0A%20%20%20%20%20%20%20%20%20%20%20%20%20%20%20%20%20%3Ctext%20x%3D%2215%22%20y%3D%2258%22%20fill%3D%22White%22%20font-family%3D%22arial%22%20font-size%3D%2216%22%3E%0A%20%20%20%20%20%20%20%20%20%20%20%20%20%20%20%20%20%20%20%20%20In%20the%20box%0A%20%20%20%20%20%20%20%20%20%20%20%20%20%20%20%20%20%3C%2Ftext%3E%0A%20%20%20%20%20%20%20%20%20%20%20%20%3C%2Fg%3E%0A%20%20%20%20%20%20%20%20%3C%2Fsvg%3E%0A%20%20%20%20%60%3B%0A%20%20%20%20d3.select%28%27body%27%29.append%28%27div%27%29.html%28html%29%3B%0A%7D%0A%0AsetupHtml%28%29%3B%0A%20%7D%3C%2Fscript%3E%0A%20%20%20%20%20%20%20%20%20%20%20%20%3C%2Fbody%3E%0A%20%20%20%20%20%20%20%20%3C%2Fhtml%3E%0A%20%20%20%20%20%20%20%20\"\n",
              "    ></iframe>\n",
              "    "
            ],
            "text/plain": [
              "<IPython.core.display.HTML object>"
            ]
          },
          "execution_count": 191,
          "metadata": {},
          "output_type": "execute_result"
        }
      ],
      "source": [
        "%%d3 -h 180 -s \"border\"\n",
        "\n",
        "function setupHtml() {\n",
        "    html=`\n",
        "        <svg>\n",
        "            <rect x=\"0\" y=\"0\" width=\"50\" height=\"50\" fill=\"green\"/>\n",
        "            <g transform=\"translate(100,30) rotate(45 50 50)\">\n",
        "                 <rect x=\"0\" y=\"0\" width=\"100\" height=\"100\" style=\"fill:blue\" />\n",
        "                 <text x=\"15\" y=\"58\" fill=\"White\" font-family=\"arial\" font-size=\"16\">\n",
        "                     In the box\n",
        "                 </text>\n",
        "            </g>\n",
        "        </svg>\n",
        "    `;\n",
        "    d3.select('body').append('div').html(html);\n",
        "}\n",
        "\n",
        "setupHtml();"
      ]
    },
    {
      "cell_type": "markdown",
      "id": "cd22042d-8a15-4720-8a8e-2d7a181cf847",
      "metadata": {
        "jp-MarkdownHeadingCollapsed": true,
        "tags": [],
        "id": "cd22042d-8a15-4720-8a8e-2d7a181cf847"
      },
      "source": [
        "# Bar graphs"
      ]
    },
    {
      "cell_type": "code",
      "execution_count": null,
      "id": "da0b016c-143e-4717-a31d-134d44f5b138",
      "metadata": {
        "id": "da0b016c-143e-4717-a31d-134d44f5b138",
        "outputId": "c508eccd-f3f0-4d7f-8940-370a823ee4ce"
      },
      "outputs": [
        {
          "data": {
            "text/html": [
              "\n",
              "    <iframe\n",
              "        style=\"border\"\n",
              "        width=\"516\"\n",
              "        height=\"226\"\n",
              "        sandbox=\"allow-scripts allow-modals\"\n",
              "        referrerpolicy=\"no-referrer\"\n",
              "        src=\"data:text/html;charset=UTF-8,%0A%20%20%20%20%20%20%20%20%3Chtml%3E%0A%20%20%20%20%20%20%20%20%20%20%20%20%3Cbody%3E%0A%20%20%20%20%20%20%20%20%20%20%20%20%3Cscript%20src%3D%27https%3A%2F%2Fcdnjs.cloudflare.com%2Fajax%2Flibs%2Fd3%2F7.2.1%2Fd3.min.js%27%20integrity%3D%22sha512-wkduu4oQG74ySorPiSRStC0Zl8rQfjr%2FTy6dMvYTmjZw6RS5bferdx8TR7ynxeh79ySEp%2FbenIFFisKofMjPbg%3D%3D%22%20crossorigin%3D%22anonymous%22%3E%3C%2Fscript%3E%0A%20%20%20%20%20%20%20%20%20%20%20%20%3Cscript%20src%3D%27https%3A%2F%2Fd3js.org%2Fd3-selection-multi.v1.min.js%27%20crossorigin%3D%22anonymous%22%3E%3C%2Fscript%3E%0A%20%20%20%20%20%20%20%20%20%20%20%20%3Cscript%3Edocument.body.onload%20%3D%20function%20%28%29%20%7B%20%0Avar%20data%20%3D%20%5B55%2C%2044%2C%2030%2C%2023%2C%2017%2C%2014%2C%2016%2C%2025%2C%2041%2C%2061%2C%2085%2C%0A%20101%2C%2095%2C%20105%2C%20114%2C%20150%2C%20180%2C%20210%2C%20125%2C%20100%2C%2071%2C%0A%2075%2C%2072%2C%2067%5D%3B%0A%0Avar%20barWidth%20%3D%2015%2C%20barPadding%20%3D%203%3B%0Avar%20maxValue%20%3D%20d3.max%28data%29%3B%0A%0Avar%20svg%20%3D%20d3.select%28%27body%27%29.append%28%27svg%27%29.attr%28%27width%27%2C%20500%29.attr%28%27height%27%2C%20210%29%3B%0Avar%20barGroup%20%3D%20svg.append%28%27g%27%29%3B%0A%0Afunction%20xloc%28d%2C%20i%29%20%7B%20return%20i%20%2A%20%28barWidth%20%2B%20barPadding%29%3B%20%7D%0Afunction%20yloc%28d%29%20%7B%20return%20maxValue%20-%20d%3B%20%7D%0Afunction%20translator%28d%2C%20i%29%20%7B%0A%20%20%20%20return%20%22translate%28%22%20%2B%20xloc%28d%2C%20i%29%20%2B%20%22%2C%22%20%2B%20yloc%28d%29%20%2B%20%22%29%22%3B%0A%7D%0A%0AbarGroup.selectAll%28%22rect%22%29%0A%20%20%20%20.data%28data%29%0A%20%20%20%20.enter%28%29%0A%20%20%20%20.append%28%27rect%27%29%0A%20%20%20%20.attr%28%27fill%27%2C%27steelblue%27%29%0A%20%20%20%20.attr%28%27transform%27%2C%20translator%29%0A%20%20%20%20.attr%28%27width%27%2C%20barWidth%29%0A%20%20%20%20.attr%28%27height%27%2C%20function%20%28d%29%20%7B%20return%20d%3B%20%7D%29%3B%0A%20%7D%3C%2Fscript%3E%0A%20%20%20%20%20%20%20%20%20%20%20%20%3C%2Fbody%3E%0A%20%20%20%20%20%20%20%20%3C%2Fhtml%3E%0A%20%20%20%20%20%20%20%20\"\n",
              "    ></iframe>\n",
              "    "
            ],
            "text/plain": [
              "<IPython.core.display.HTML object>"
            ]
          },
          "execution_count": 192,
          "metadata": {},
          "output_type": "execute_result"
        }
      ],
      "source": [
        "%%d3 -s border -h 226 -w 516\n",
        "\n",
        "var data = [55, 44, 30, 23, 17, 14, 16, 25, 41, 61, 85,\n",
        " 101, 95, 105, 114, 150, 180, 210, 125, 100, 71,\n",
        " 75, 72, 67];\n",
        "\n",
        "var barWidth = 15, barPadding = 3;\n",
        "var maxValue = d3.max(data);\n",
        "\n",
        "var svg = d3.select('body').append('svg').attr('width', 500).attr('height', 210);\n",
        "var barGroup = svg.append('g');\n",
        "\n",
        "function xloc(d, i) { return i * (barWidth + barPadding); }\n",
        "function yloc(d) { return maxValue - d; }\n",
        "function translator(d, i) {\n",
        "    return \"translate(\" + xloc(d, i) + \",\" + yloc(d) + \")\";\n",
        "}\n",
        "\n",
        "barGroup.selectAll(\"rect\")\n",
        "    .data(data)\n",
        "    .enter()\n",
        "    .append('rect')\n",
        "    .attr('fill','steelblue')\n",
        "    .attr('transform', translator)\n",
        "    .attr('width', barWidth)\n",
        "    .attr('height', function (d) { return d; });"
      ]
    },
    {
      "cell_type": "code",
      "execution_count": null,
      "id": "cb13633b-d250-4563-a3d2-4c9ded00e557",
      "metadata": {
        "id": "cb13633b-d250-4563-a3d2-4c9ded00e557",
        "outputId": "5ffc81dc-ee13-402f-c5af-019b9ea900b9"
      },
      "outputs": [
        {
          "data": {
            "text/html": [
              "\n",
              "    <iframe\n",
              "        style=\"border\"\n",
              "        width=\"516\"\n",
              "        height=\"226\"\n",
              "        sandbox=\"allow-scripts allow-modals\"\n",
              "        referrerpolicy=\"no-referrer\"\n",
              "        src=\"data:text/html;charset=UTF-8,%0A%20%20%20%20%20%20%20%20%3Chtml%3E%0A%20%20%20%20%20%20%20%20%20%20%20%20%3Cbody%3E%0A%20%20%20%20%20%20%20%20%20%20%20%20%3Cscript%20src%3D%27https%3A%2F%2Fcdnjs.cloudflare.com%2Fajax%2Flibs%2Fd3%2F7.2.1%2Fd3.min.js%27%20integrity%3D%22sha512-wkduu4oQG74ySorPiSRStC0Zl8rQfjr%2FTy6dMvYTmjZw6RS5bferdx8TR7ynxeh79ySEp%2FbenIFFisKofMjPbg%3D%3D%22%20crossorigin%3D%22anonymous%22%3E%3C%2Fscript%3E%0A%20%20%20%20%20%20%20%20%20%20%20%20%3Cscript%20src%3D%27https%3A%2F%2Fd3js.org%2Fd3-selection-multi.v1.min.js%27%20crossorigin%3D%22anonymous%22%3E%3C%2Fscript%3E%0A%20%20%20%20%20%20%20%20%20%20%20%20%3Cscript%3Edocument.body.onload%20%3D%20function%20%28%29%20%7B%20%0Avar%20data%20%3D%20%5B55%2C%2044%2C%2030%2C%2023%2C%2017%2C%2014%2C%2016%2C%2025%2C%2041%2C%2061%2C%2085%2C%0A%20101%2C%2095%2C%20105%2C%20114%2C%20150%2C%20180%2C%20210%2C%20125%2C%20100%2C%2071%2C%0A%2075%2C%2072%2C%2067%5D%3B%0A%0Avar%20barWidth%20%3D%2015%2C%20barPadding%20%3D%203%3B%0Avar%20maxValue%20%3D%20d3.max%28data%29%3B%0A%0Avar%20svg%20%3D%20d3.select%28%27body%27%29.append%28%27svg%27%29.attr%28%27width%27%2C%20500%29.attr%28%27height%27%2C%20210%29%3B%0Avar%20barGroup%20%3D%20svg.append%28%27g%27%29%3B%0A%0Afunction%20xloc%28d%2C%20i%29%20%7B%20return%20i%20%2A%20%28barWidth%20%2B%20barPadding%29%3B%20%7D%0Afunction%20yloc%28d%29%20%7B%20return%20maxValue%20-%20d%3B%20%7D%0Afunction%20translator%28d%2C%20i%29%20%7B%0A%20%20%20%20return%20%22translate%28%22%20%2B%20xloc%28d%2C%20i%29%20%2B%20%22%2C%22%20%2B%20yloc%28d%29%20%2B%20%22%29%22%3B%0A%7D%0A%0AbarGroup.selectAll%28%22rect%22%29%0A%20%20%20%20.data%28data%29%0A%20%20%20%20.enter%28%29%0A%20%20%20%20.append%28%27rect%27%29%0A%20%20%20%20.attrs%28%7B%0A%20%20%20%20%20%20%20%20%27fill%27%3A%20%27steelblue%27%2C%0A%20%20%20%20%20%20%20%20%27transform%27%3A%20translator%2C%0A%20%20%20%20%20%20%20%20%27width%27%3A%20barWidth%2C%0A%20%20%20%20%20%20%20%20%27height%27%3A%20function%20%28d%29%20%7B%20return%20d%3B%20%7D%0A%20%20%20%20%7D%29%3B%0A%20%7D%3C%2Fscript%3E%0A%20%20%20%20%20%20%20%20%20%20%20%20%3C%2Fbody%3E%0A%20%20%20%20%20%20%20%20%3C%2Fhtml%3E%0A%20%20%20%20%20%20%20%20\"\n",
              "    ></iframe>\n",
              "    "
            ],
            "text/plain": [
              "<IPython.core.display.HTML object>"
            ]
          },
          "execution_count": 193,
          "metadata": {},
          "output_type": "execute_result"
        }
      ],
      "source": [
        "%%d3 -s border -h 226 -w 516\n",
        "\n",
        "var data = [55, 44, 30, 23, 17, 14, 16, 25, 41, 61, 85,\n",
        " 101, 95, 105, 114, 150, 180, 210, 125, 100, 71,\n",
        " 75, 72, 67];\n",
        "\n",
        "var barWidth = 15, barPadding = 3;\n",
        "var maxValue = d3.max(data);\n",
        "\n",
        "var svg = d3.select('body').append('svg').attr('width', 500).attr('height', 210);\n",
        "var barGroup = svg.append('g');\n",
        "\n",
        "function xloc(d, i) { return i * (barWidth + barPadding); }\n",
        "function yloc(d) { return maxValue - d; }\n",
        "function translator(d, i) {\n",
        "    return \"translate(\" + xloc(d, i) + \",\" + yloc(d) + \")\";\n",
        "}\n",
        "\n",
        "barGroup.selectAll(\"rect\")\n",
        "    .data(data)\n",
        "    .enter()\n",
        "    .append('rect')\n",
        "    .attrs({\n",
        "        'fill': 'steelblue',\n",
        "        'transform': translator,\n",
        "        'width': barWidth,\n",
        "        'height': function (d) { return d; }\n",
        "    });"
      ]
    },
    {
      "cell_type": "code",
      "execution_count": null,
      "id": "58133eae-83dd-4e72-b575-947a9dd844f6",
      "metadata": {
        "id": "58133eae-83dd-4e72-b575-947a9dd844f6",
        "outputId": "fbd3a707-0184-47a5-c6fa-0d188f48122e"
      },
      "outputs": [
        {
          "data": {
            "text/html": [
              "\n",
              "    <iframe\n",
              "        style=\"border\"\n",
              "        width=\"1016\"\n",
              "        height=\"226\"\n",
              "        sandbox=\"allow-scripts allow-modals\"\n",
              "        referrerpolicy=\"no-referrer\"\n",
              "        src=\"data:text/html;charset=UTF-8,%0A%20%20%20%20%20%20%20%20%3Chtml%3E%0A%20%20%20%20%20%20%20%20%20%20%20%20%3Cbody%3E%0A%20%20%20%20%20%20%20%20%20%20%20%20%3Cscript%20src%3D%27https%3A%2F%2Fcdnjs.cloudflare.com%2Fajax%2Flibs%2Fd3%2F7.2.1%2Fd3.min.js%27%20integrity%3D%22sha512-wkduu4oQG74ySorPiSRStC0Zl8rQfjr%2FTy6dMvYTmjZw6RS5bferdx8TR7ynxeh79ySEp%2FbenIFFisKofMjPbg%3D%3D%22%20crossorigin%3D%22anonymous%22%3E%3C%2Fscript%3E%0A%20%20%20%20%20%20%20%20%20%20%20%20%3Cscript%20src%3D%27https%3A%2F%2Fd3js.org%2Fd3-selection-multi.v1.min.js%27%20crossorigin%3D%22anonymous%22%3E%3C%2Fscript%3E%0A%20%20%20%20%20%20%20%20%20%20%20%20%3Cscript%3Edocument.body.onload%20%3D%20function%20%28%29%20%7B%20%0Avar%20data%20%3D%20%5B55%2C%2044%2C%2030%2C%2023%2C%2017%2C%2014%2C%2016%2C%2025%2C%2041%2C%2061%2C%2085%2C%0A%20101%2C%2095%2C%20105%2C%20114%2C%20150%2C%20180%2C%20210%2C%20125%2C%20100%2C%2071%2C%0A%2075%2C%2072%2C%2067%5D%3B%0A%0Avar%20barWidth%20%3D%2020%2C%20barPadding%20%3D%203%3B%0Avar%20maxValue%20%3D%20d3.max%28data%29%3B%0A%0Avar%20svg%20%3D%20d3.select%28%27body%27%29.append%28%27svg%27%29.attr%28%27width%27%2C%201000%29.attr%28%27height%27%2C%20210%29%3B%0Avar%20chart%20%3D%20svg.append%28%27g%27%29%3B%0A%0Afunction%20xloc%28d%2C%20i%29%20%7B%20return%20i%20%2A%20%28barWidth%20%2B%20barPadding%29%3B%20%7D%0Afunction%20yloc%28d%29%20%7B%20return%20maxValue%20-%20d%3B%20%7D%0Afunction%20translator%28d%2C%20i%29%20%7B%0A%20%20%20%20return%20%22translate%28%22%20%2B%20xloc%28d%2C%20i%29%20%2B%20%22%2C%22%20%2B%20yloc%28d%29%20%2B%20%22%29%22%3B%0A%7D%0A%0Avar%20barGroups%20%3D%20chart.selectAll%28%22rect%22%29%0A%20%20%20%20.data%28data%29%0A%20%20%20%20.enter%28%29%0A%20%20%20%20.append%28%27g%27%29%0A%20%20%20%20.attr%28%27transform%27%2C%20translator%29%3B%0A%20%20%20%20%0AbarGroups.append%28%27rect%27%29%0A%20%20%20%20.attrs%28%7B%0A%20%20%20%20%20%20%20%20%27fill%27%3A%20%27steelblue%27%2C%0A%20%20%20%20%20%20%20%20%27width%27%3A%20barWidth%2C%0A%20%20%20%20%20%20%20%20%27height%27%3A%200%0A%20%20%20%20%7D%29%0A%20%20%20%20.transition%28%29%0A%20%20%20%20%20%20%20%20.delay%28100%29%0A%20%20%20%20%20%20%20%20.duration%281000%29%20%20%0A%20%20%20%20%20%20%20%20.attr%28%27height%27%2C%20function%28d%29%20%7B%20return%20d%3B%20%7D%29%3B%0A%0Avar%20textTranslator%20%3D%20%22translate%28%22%20%2B%20barWidth%20%2F%202%20%2B%20%22%2C%202%29%22%3B%0A%0AbarGroups.append%28%27text%27%29%0A%20%20%20%20.attrs%28%7B%0A%20%20%20%20%20%20%20%20%27transform%27%3A%20textTranslator%2C%0A%20%20%20%20%20%20%20%20%27fill%27%3A%20%27white%27%2C%0A%20%20%20%20%20%20%20%20%27alignment-baseline%27%3A%20%27before-edge%27%2C%0A%20%20%20%20%20%20%20%20%27text-anchor%27%3A%20%27middle%27%2C%20%20%0A%20%20%20%20%7D%29%0A%20%20%20%20.style%28%27font%27%2C%20%2710px%20sans-serif%27%29%0A%20%20%20%20.text%28function%20%28d%29%20%7B%20return%20d%3B%20%7D%29%3B%0A%20%7D%3C%2Fscript%3E%0A%20%20%20%20%20%20%20%20%20%20%20%20%3C%2Fbody%3E%0A%20%20%20%20%20%20%20%20%3C%2Fhtml%3E%0A%20%20%20%20%20%20%20%20\"\n",
              "    ></iframe>\n",
              "    "
            ],
            "text/plain": [
              "<IPython.core.display.HTML object>"
            ]
          },
          "execution_count": 194,
          "metadata": {},
          "output_type": "execute_result"
        }
      ],
      "source": [
        "%%d3 -s border -h 226 -w 1016\n",
        "\n",
        "var data = [55, 44, 30, 23, 17, 14, 16, 25, 41, 61, 85,\n",
        " 101, 95, 105, 114, 150, 180, 210, 125, 100, 71,\n",
        " 75, 72, 67];\n",
        "\n",
        "var barWidth = 20, barPadding = 3;\n",
        "var maxValue = d3.max(data);\n",
        "\n",
        "var svg = d3.select('body').append('svg').attr('width', 1000).attr('height', 210);\n",
        "var chart = svg.append('g');\n",
        "\n",
        "function xloc(d, i) { return i * (barWidth + barPadding); }\n",
        "function yloc(d) { return maxValue - d; }\n",
        "function translator(d, i) {\n",
        "    return \"translate(\" + xloc(d, i) + \",\" + yloc(d) + \")\";\n",
        "}\n",
        "\n",
        "var barGroups = chart.selectAll(\"rect\")\n",
        "    .data(data)\n",
        "    .enter()\n",
        "    .append('g')\n",
        "    .attr('transform', translator);\n",
        "    \n",
        "barGroups.append('rect')\n",
        "    .attrs({\n",
        "        'fill': 'steelblue',\n",
        "        'width': barWidth,\n",
        "        'height': 0\n",
        "    })\n",
        "    .transition()\n",
        "        .delay(100)\n",
        "        .duration(1000)  \n",
        "        .attr('height', function(d) { return d; });\n",
        "\n",
        "var textTranslator = \"translate(\" + barWidth / 2 + \", 2)\";\n",
        "\n",
        "barGroups.append('text')\n",
        "    .attrs({\n",
        "        'transform': textTranslator,\n",
        "        'fill': 'white',\n",
        "        'alignment-baseline': 'before-edge',\n",
        "        'text-anchor': 'middle',  \n",
        "    })\n",
        "    .style('font', '10px sans-serif')\n",
        "    .text(function (d) { return d; });"
      ]
    },
    {
      "cell_type": "code",
      "execution_count": null,
      "id": "0a903696-0f71-43c3-b768-574bf6f9c29d",
      "metadata": {
        "id": "0a903696-0f71-43c3-b768-574bf6f9c29d",
        "outputId": "9004172a-cf6a-4b9e-9a3e-8b9f285e01e0"
      },
      "outputs": [
        {
          "data": {
            "text/html": [
              "\n",
              "    <iframe\n",
              "        style=\"border: none\"\n",
              "        width=\"1100\"\n",
              "        height=\"300\"\n",
              "        sandbox=\"allow-scripts allow-modals\"\n",
              "        referrerpolicy=\"no-referrer\"\n",
              "        src=\"data:text/html;charset=UTF-8,%0A%20%20%20%20%20%20%20%20%3Chtml%3E%0A%20%20%20%20%20%20%20%20%20%20%20%20%3Cbody%3E%0A%20%20%20%20%20%20%20%20%20%20%20%20%3Cscript%20src%3D%27https%3A%2F%2Fcdnjs.cloudflare.com%2Fajax%2Flibs%2Fd3%2F7.2.1%2Fd3.min.js%27%20integrity%3D%22sha512-wkduu4oQG74ySorPiSRStC0Zl8rQfjr%2FTy6dMvYTmjZw6RS5bferdx8TR7ynxeh79ySEp%2FbenIFFisKofMjPbg%3D%3D%22%20crossorigin%3D%22anonymous%22%3E%3C%2Fscript%3E%0A%20%20%20%20%20%20%20%20%20%20%20%20%3Cscript%20src%3D%27https%3A%2F%2Fd3js.org%2Fd3-selection-multi.v1.min.js%27%20crossorigin%3D%22anonymous%22%3E%3C%2Fscript%3E%0A%20%20%20%20%20%20%20%20%20%20%20%20%3Cscript%3Edocument.body.onload%20%3D%20function%20%28%29%20%7B%20%0Avar%20data%20%3D%20%5B55%2C%2044%2C%2030%2C%2023%2C%2017%2C%2014%2C%2016%2C%2025%2C%2041%2C%2061%2C%2085%2C%0A%20101%2C%2095%2C%20105%2C%20114%2C%20150%2C%20180%2C%20210%2C%20125%2C%20100%2C%2071%2C%0A%2075%2C%2072%2C%2067%5D%3B%0A%0Avar%20barWidth%20%3D%2020%2C%20barPadding%20%3D%203%3B%0Avar%20maxValue%20%3D%20d3.max%28data%29%3B%0A%0Avar%20graphWidth%20%3D%20data.length%20%2A%20%28barWidth%20%2B%20barPadding%29%20-%20barPadding%3B%0Avar%20margin%20%3D%20%7B%20top%3A%2010%2C%20right%3A%2010%2C%20bottom%3A%2010%2C%20left%3A%2050%20%7D%3B%0Avar%20totalWidth%20%3D%20graphWidth%20%2B%20margin.left%20%2B%20margin.right%3B%0Avar%20totalHeight%20%3D%20maxValue%20%2B%20margin.top%20%2B%20margin.bottom%3B%0A%0Avar%20svg%20%3D%20d3.select%28%27body%27%29.append%28%27svg%27%29.attrs%28%7B%0A%20%20%20%20%27width%27%3A%20totalWidth%2C%0A%20%20%20%20%27height%27%3A%20totalHeight%0A%7D%29%3B%0A%0Asvg.append%28%27rect%27%29.attrs%28%7B%0A%20%20%20%20width%3A%20totalWidth%2C%0A%20%20%20%20height%3A%20totalHeight%2C%0A%20%20%20%20fill%3A%20%27white%27%2C%0A%20%20%20%20stroke%3A%20%27black%27%2C%0A%20%20%20%20%27stroke-width%27%3A%201%0A%7D%29%3B%0A%0Avar%20chart%20%3D%20svg.append%28%27g%27%29.attr%28%27transform%27%2C%20%27translate%28%27%20%2B%20margin.left%20%2B%20%27%2C%27%20%2B%20margin.top%20%2B%20%22%29%22%29%3B%0Achart.append%28%27rect%27%29.attrs%28%7B%0A%20%20%20%20fill%3A%20%27rgba%280%2C0%2C0%2C0.1%29%27%2C%0A%20%20%20%20width%3A%20totalWidth%20-%20%28margin.left%20%2B%20margin.right%29%2C%0A%20%20%20%20height%3A%20totalHeight%20-%20%28margin.bottom%20%2B%20margin.top%29%0A%7D%29%3B%0A%0Afunction%20xloc%28d%2C%20i%29%20%7B%20return%20i%20%2A%20%28barWidth%20%2B%20barPadding%29%3B%20%7D%0Afunction%20yloc%28d%29%20%7B%20return%20maxValue%20-%20d%3B%20%7D%0Afunction%20translator%28d%2C%20i%29%20%7B%0A%20%20%20%20return%20%22translate%28%22%20%2B%20xloc%28d%2C%20i%29%20%2B%20%22%2C%22%20%2B%20yloc%28d%29%20%2B%20%22%29%22%3B%0A%7D%0A%0Avar%20barGroups%20%3D%20chart.selectAll%28%22g%22%29%0A%20%20%20%20.data%28data%29%0A%20%20%20%20.enter%28%29%0A%20%20%20%20.append%28%27g%27%29%0A%20%20%20%20.attrs%28%7B%27transform%27%3A%20translator%7D%29%3B%0A%20%20%20%20%0AbarGroups.append%28%27rect%27%29%0A%20%20%20%20.attrs%28%7B%0A%20%20%20%20%20%20%20%20%27fill%27%3A%20%27steelblue%27%2C%0A%20%20%20%20%20%20%20%20%27width%27%3A%20barWidth%2C%0A%20%20%20%20%20%20%20%20%27height%27%3A%20function%28d%29%20%7B%20return%20d%3B%20%7D%0A%20%20%20%20%7D%29%3B%0A%0Avar%20textTranslator%20%3D%20%22translate%28%22%20%2B%20barWidth%20%2F%202%20%2B%20%22%2C%202%29%22%3B%0A%0AbarGroups.append%28%27text%27%29%0A%20%20%20%20.attrs%28%7B%0A%20%20%20%20%20%20%20%20%27transform%27%3A%20textTranslator%2C%0A%20%20%20%20%20%20%20%20%27fill%27%3A%20%27white%27%2C%0A%20%20%20%20%20%20%20%20%27alignment-baseline%27%3A%20%27before-edge%27%2C%0A%20%20%20%20%20%20%20%20%27text-anchor%27%3A%20%27middle%27%2C%20%20%0A%20%20%20%20%7D%29%0A%20%20%20%20.style%28%27font%27%2C%20%2710px%20sans-serif%27%29%0A%20%20%20%20.text%28function%20%28d%29%20%7B%20return%20d%3B%20%7D%29%3B%0A%20%7D%3C%2Fscript%3E%0A%20%20%20%20%20%20%20%20%20%20%20%20%3C%2Fbody%3E%0A%20%20%20%20%20%20%20%20%3C%2Fhtml%3E%0A%20%20%20%20%20%20%20%20\"\n",
              "    ></iframe>\n",
              "    "
            ],
            "text/plain": [
              "<IPython.core.display.HTML object>"
            ]
          },
          "execution_count": 195,
          "metadata": {},
          "output_type": "execute_result"
        }
      ],
      "source": [
        "%%d3 -h 300 -w 1100\n",
        "\n",
        "var data = [55, 44, 30, 23, 17, 14, 16, 25, 41, 61, 85,\n",
        " 101, 95, 105, 114, 150, 180, 210, 125, 100, 71,\n",
        " 75, 72, 67];\n",
        "\n",
        "var barWidth = 20, barPadding = 3;\n",
        "var maxValue = d3.max(data);\n",
        "\n",
        "var graphWidth = data.length * (barWidth + barPadding) - barPadding;\n",
        "var margin = { top: 10, right: 10, bottom: 10, left: 50 };\n",
        "var totalWidth = graphWidth + margin.left + margin.right;\n",
        "var totalHeight = maxValue + margin.top + margin.bottom;\n",
        "\n",
        "var svg = d3.select('body').append('svg').attrs({\n",
        "    'width': totalWidth,\n",
        "    'height': totalHeight\n",
        "});\n",
        "\n",
        "svg.append('rect').attrs({\n",
        "    width: totalWidth,\n",
        "    height: totalHeight,\n",
        "    fill: 'white',\n",
        "    stroke: 'black',\n",
        "    'stroke-width': 1\n",
        "});\n",
        "\n",
        "var chart = svg.append('g').attr('transform', 'translate(' + margin.left + ',' + margin.top + \")\");\n",
        "chart.append('rect').attrs({\n",
        "    fill: 'rgba(0,0,0,0.1)',\n",
        "    width: totalWidth - (margin.left + margin.right),\n",
        "    height: totalHeight - (margin.bottom + margin.top)\n",
        "});\n",
        "\n",
        "function xloc(d, i) { return i * (barWidth + barPadding); }\n",
        "function yloc(d) { return maxValue - d; }\n",
        "function translator(d, i) {\n",
        "    return \"translate(\" + xloc(d, i) + \",\" + yloc(d) + \")\";\n",
        "}\n",
        "\n",
        "var barGroups = chart.selectAll(\"g\")\n",
        "    .data(data)\n",
        "    .enter()\n",
        "    .append('g')\n",
        "    .attrs({'transform': translator});\n",
        "    \n",
        "barGroups.append('rect')\n",
        "    .attrs({\n",
        "        'fill': 'steelblue',\n",
        "        'width': barWidth,\n",
        "        'height': function(d) { return d; }\n",
        "    });\n",
        "\n",
        "var textTranslator = \"translate(\" + barWidth / 2 + \", 2)\";\n",
        "\n",
        "barGroups.append('text')\n",
        "    .attrs({\n",
        "        'transform': textTranslator,\n",
        "        'fill': 'white',\n",
        "        'alignment-baseline': 'before-edge',\n",
        "        'text-anchor': 'middle',  \n",
        "    })\n",
        "    .style('font', '10px sans-serif')\n",
        "    .text(function (d) { return d; });"
      ]
    },
    {
      "cell_type": "code",
      "execution_count": null,
      "id": "83bb5006-3ef3-4d55-83c7-46660221201b",
      "metadata": {
        "id": "83bb5006-3ef3-4d55-83c7-46660221201b",
        "outputId": "19aa231c-7968-4bdb-c36f-014ac5b7359f"
      },
      "outputs": [
        {
          "data": {
            "text/html": [
              "\n",
              "    <iframe\n",
              "        style=\"border\"\n",
              "        width=\"100%\"\n",
              "        height=\"50\"\n",
              "        sandbox=\"allow-scripts allow-modals\"\n",
              "        referrerpolicy=\"no-referrer\"\n",
              "        src=\"data:text/html;charset=UTF-8,%0A%20%20%20%20%20%20%20%20%3Chtml%3E%0A%20%20%20%20%20%20%20%20%20%20%20%20%3Cbody%3E%0A%20%20%20%20%20%20%20%20%20%20%20%20%3Cscript%20src%3D%27https%3A%2F%2Fcdnjs.cloudflare.com%2Fajax%2Flibs%2Fd3%2F7.2.1%2Fd3.min.js%27%20integrity%3D%22sha512-wkduu4oQG74ySorPiSRStC0Zl8rQfjr%2FTy6dMvYTmjZw6RS5bferdx8TR7ynxeh79ySEp%2FbenIFFisKofMjPbg%3D%3D%22%20crossorigin%3D%22anonymous%22%3E%3C%2Fscript%3E%0A%20%20%20%20%20%20%20%20%20%20%20%20%3Cscript%20src%3D%27https%3A%2F%2Fd3js.org%2Fd3-selection-multi.v1.min.js%27%20crossorigin%3D%22anonymous%22%3E%3C%2Fscript%3E%0A%20%20%20%20%20%20%20%20%20%20%20%20%3Cscript%3Edocument.body.onload%20%3D%20function%20%28%29%20%7B%20var%20data%20%3D%20%5B55%2C%2044%2C%2030%2C%2023%2C%2017%2C%2014%2C%2016%2C%2025%2C%2041%2C%2061%2C%2085%2C%0A%20%20%20%20%20%20%20%20%20%20%20%20%20%20%20%20%20%20%20%20101%2C%2095%2C%20105%2C%20114%2C%20150%2C%20180%2C%20210%2C%20125%2C%20100%2C%2071%2C%0A%20%20%20%20%20%20%20%20%20%20%20%20%20%20%20%20%20%20%20%2075%2C%2072%2C%2067%5D%3B%0A%0A%20%20%20%20%20%20%20%20var%20maxValue%20%3D%20d3.max%28data%29%3B%0A%0A%20%20%20%20%20%20%20%20var%20width%20%3D%20500%2C%20height%20%3D%20300%3B%0A%20%20%20%20%20%20%20%20var%20svg%20%3D%20d3.select%28%27body%27%29%0A%20%20%20%20%20%20%20%20%20%20%20%20.append%28%27svg%27%29%0A%20%20%20%20%20%20%20%20%20%20%20%20.attrs%28%7B%20width%3A%20width%2C%20height%3A%20height%20%7D%29%3B%0A%0A%20%20%20%20%20%20%20%20var%20scale%20%3D%20d3.scaleLinear%28%29%0A%20%20%20%20%20%20%20%20%20%20%20%20.domain%28%5B0%2C%20maxValue%5D%29%0A%20%20%20%20%20%20%20%20%20%20%20%20.range%28%5B0%2C%20width%5D%29%3B%0A%0A%20%20%20%20%20%20%20%20var%20axisGroup%20%3D%20svg.append%28%27g%27%29%3B%0A%20%20%20%20%20%20%20%20var%20axis%20%3D%20d3.axisBottom%28%29.scale%28scale%29%3B%0A%20%20%20%20%20%20%20%20axisGroup.call%28axis%29.attr%28%27transform%27%2C%20%27translate%280%2C0%29%27%29%3B%0A%20%7D%3C%2Fscript%3E%0A%20%20%20%20%20%20%20%20%20%20%20%20%3C%2Fbody%3E%0A%20%20%20%20%20%20%20%20%3C%2Fhtml%3E%0A%20%20%20%20%20%20%20%20\"\n",
              "    ></iframe>\n",
              "    "
            ],
            "text/plain": [
              "<IPython.core.display.HTML object>"
            ]
          },
          "execution_count": 196,
          "metadata": {},
          "output_type": "execute_result"
        }
      ],
      "source": [
        "%%d3 -h 50 -s border\n",
        "var data = [55, 44, 30, 23, 17, 14, 16, 25, 41, 61, 85,\n",
        "                    101, 95, 105, 114, 150, 180, 210, 125, 100, 71,\n",
        "                    75, 72, 67];\n",
        "\n",
        "        var maxValue = d3.max(data);\n",
        "\n",
        "        var width = 500, height = 300;\n",
        "        var svg = d3.select('body')\n",
        "            .append('svg')\n",
        "            .attrs({ width: width, height: height });\n",
        "\n",
        "        var scale = d3.scaleLinear()\n",
        "            .domain([0, maxValue])\n",
        "            .range([0, width]);\n",
        "\n",
        "        var axisGroup = svg.append('g');\n",
        "        var axis = d3.axisBottom().scale(scale);\n",
        "        axisGroup.call(axis).attr('transform', 'translate(0,0)');"
      ]
    },
    {
      "cell_type": "code",
      "execution_count": null,
      "id": "8bf9d92d-dd21-455d-bfbf-34f796323b53",
      "metadata": {
        "colab": {
          "base_uri": "https://localhost:8080/",
          "height": 322
        },
        "id": "8bf9d92d-dd21-455d-bfbf-34f796323b53",
        "outputId": "98fe7c3b-3f90-4f76-e18e-f7660c1aa359"
      },
      "outputs": [
        {
          "output_type": "execute_result",
          "data": {
            "text/html": [
              "\n",
              "    <iframe\n",
              "        style=\"border: none\"\n",
              "        width=\"1100\"\n",
              "        height=\"280\"\n",
              "        sandbox=\"allow-scripts allow-modals\"\n",
              "        referrerpolicy=\"no-referrer\"\n",
              "        src=\"data:text/html;charset=UTF-8,%0A%20%20%20%20%20%20%20%20%3Chtml%3E%0A%20%20%20%20%20%20%20%20%20%20%20%20%3Cbody%3E%0A%20%20%20%20%20%20%20%20%20%20%20%20%3Cscript%20src%3D%27https%3A%2F%2Fcdnjs.cloudflare.com%2Fajax%2Flibs%2Fd3%2F7.2.1%2Fd3.min.js%27%20integrity%3D%22sha512-wkduu4oQG74ySorPiSRStC0Zl8rQfjr%2FTy6dMvYTmjZw6RS5bferdx8TR7ynxeh79ySEp%2FbenIFFisKofMjPbg%3D%3D%22%20crossorigin%3D%22anonymous%22%3E%3C%2Fscript%3E%0A%20%20%20%20%20%20%20%20%20%20%20%20%3Cscript%20src%3D%27https%3A%2F%2Fd3js.org%2Fd3-selection-multi.v1.min.js%27%20crossorigin%3D%22anonymous%22%3E%3C%2Fscript%3E%0A%20%20%20%20%20%20%20%20%20%20%20%20%3Cscript%3Edocument.body.onload%20%3D%20function%20%28%29%20%7B%20%0Avar%20data%20%3D%20%5B55%2C%2044%2C%2030%2C%2023%2C%2017%2C%2014%2C%2016%2C%2025%2C%2041%2C%2061%2C%2085%2C%0A%20101%2C%2095%2C%20105%2C%20114%2C%20150%2C%20180%2C%20210%2C%20125%2C%20100%2C%2071%2C%0A%2075%2C%2072%2C%2067%5D%3B%0A%0Avar%20barWidth%20%3D%2020%2C%20barPadding%20%3D%203%3B%0Avar%20maxValue%20%3D%20d3.max%28data%29%3B%0A%0Avar%20graphWidth%20%3D%20data.length%20%2A%20%28barWidth%20%2B%20barPadding%29%20-%20barPadding%3B%0Avar%20margin%20%3D%20%7B%20top%3A%2010%2C%20right%3A%2010%2C%20bottom%3A%2010%2C%20left%3A%2050%20%7D%3B%0Avar%20totalWidth%20%3D%20graphWidth%20%2B%20margin.left%20%2B%20margin.right%3B%0Avar%20totalHeight%20%3D%20maxValue%20%2B%20margin.top%20%2B%20margin.bottom%3B%0A%0Avar%20svg%20%3D%20d3.select%28%27body%27%29.append%28%27svg%27%29.attrs%28%7B%0A%20%20%20%20%27width%27%3A%20totalWidth%2C%0A%20%20%20%20%27height%27%3A%20totalHeight%0A%7D%29%3B%0A%0Asvg.append%28%27rect%27%29.attrs%28%7B%0A%20%20%20%20width%3A%20totalWidth%2C%0A%20%20%20%20height%3A%20totalHeight%2C%0A%20%20%20%20fill%3A%20%27white%27%2C%0A%20%20%20%20stroke%3A%20%27black%27%2C%0A%20%20%20%20%27stroke-width%27%3A%201%0A%7D%29%3B%0A%0Avar%20chart%20%3D%20svg.append%28%27g%27%29.attr%28%27transform%27%2C%20%27translate%28%27%20%2B%20margin.left%20%2B%20%27%2C%27%20%2B%20margin.top%20%2B%20%22%29%22%29%3B%0Achart.append%28%27rect%27%29.attrs%28%7B%0A%20%20%20%20fill%3A%20%27rgba%280%2C0%2C0%2C0.5%29%27%2C%0A%20%20%20%20width%3A%20totalWidth%20-%20%28margin.left%20%2B%20margin.right%29%2C%0A%20%20%20%20height%3A%20totalHeight%20-%20%28margin.bottom%20%2B%20margin.top%29%0A%7D%29%3B%0A%0Afunction%20xloc%28d%2C%20i%29%20%7B%20return%20i%20%2A%20%28barWidth%20%2B%20barPadding%29%3B%20%7D%0Afunction%20yloc%28d%29%20%7B%20return%20maxValue%20-%20d%3B%20%7D%0Afunction%20translator%28d%2C%20i%29%20%7B%0A%20%20%20%20return%20%22translate%28%22%20%2B%20xloc%28d%2C%20i%29%20%2B%20%22%2C%22%20%2B%20yloc%28d%29%20%2B%20%22%29%22%3B%0A%7D%0A%0Avar%20barGroups%20%3D%20chart.selectAll%28%22g%22%29%0A%20%20%20%20.data%28data%29%0A%20%20%20%20.enter%28%29%0A%20%20%20%20.append%28%27g%27%29%0A%20%20%20%20.attrs%28%7B%27transform%27%3A%20translator%7D%29%3B%0A%20%20%20%20%0AbarGroups.append%28%27rect%27%29%0A%20%20%20%20.attrs%28%7B%0A%20%20%20%20%20%20%20%20%27fill%27%3A%20%27steelblue%27%2C%0A%20%20%20%20%20%20%20%20%27width%27%3A%20barWidth%2C%0A%20%20%20%20%20%20%20%20%27height%27%3A%20function%28d%29%20%7B%20return%20d%3B%20%7D%0A%20%20%20%20%7D%29%3B%0A%0Avar%20textTranslator%20%3D%20%22translate%28%22%20%2B%20barWidth%20%2F%202%20%2B%20%22%2C%202%29%22%3B%0A%0AbarGroups.append%28%27text%27%29%0A%20%20%20%20.attrs%28%7B%0A%20%20%20%20%20%20%20%20%27transform%27%3A%20textTranslator%2C%0A%20%20%20%20%20%20%20%20%27fill%27%3A%20%27white%27%2C%0A%20%20%20%20%20%20%20%20%27alignment-baseline%27%3A%20%27before-edge%27%2C%0A%20%20%20%20%20%20%20%20%27text-anchor%27%3A%20%27middle%27%2C%20%20%0A%20%20%20%20%7D%29%0A%20%20%20%20.style%28%27font%27%2C%20%2710px%20sans-serif%27%29%0A%20%20%20%20.text%28function%20%28d%29%20%7B%20return%20d%3B%20%7D%29%3B%0A%0Avar%20scale%20%3D%20d3.scaleLinear%28%29%0A%20%20%20%20%20%20%20%20%20%20%20%20.domain%28%5BmaxValue%2C%200%5D%29%0A%20%20%20%20%20%20%20%20%20%20%20%20.range%28%5B0%2C%20maxValue%5D%29%3B%0A%0Avar%20axisGroup%20%3D%20svg.append%28%27g%27%29%3B%0Avar%20axis%20%3D%20d3.axisLeft%28%29.scale%28scale%29%3B%0Avar%20axisPadding%20%3D%203%3B%0AaxisGroup.call%28axis%29%0A%20%20%20%20.attr%28%27transform%27%2C%20%22translate%28%22%20%2B%20%28margin.left%20-%20axisPadding%29%20%2B%20%22%2C%22%20%2B%20margin.top%20%2B%20%22%29%22%29%3B%20%7D%3C%2Fscript%3E%0A%20%20%20%20%20%20%20%20%20%20%20%20%3C%2Fbody%3E%0A%20%20%20%20%20%20%20%20%3C%2Fhtml%3E%0A%20%20%20%20%20%20%20%20\"\n",
              "    ></iframe>\n",
              "    "
            ],
            "text/plain": [
              "<IPython.core.display.HTML object>"
            ]
          },
          "metadata": {},
          "execution_count": 2
        }
      ],
      "source": [
        "%%d3 -h 280 -w 1100\n",
        "\n",
        "var data = [55, 44, 30, 23, 17, 14, 16, 25, 41, 61, 85,\n",
        " 101, 95, 105, 114, 150, 180, 210, 125, 100, 71,\n",
        " 75, 72, 67];\n",
        "\n",
        "var barWidth = 20, barPadding = 3;\n",
        "var maxValue = d3.max(data);\n",
        "\n",
        "var graphWidth = data.length * (barWidth + barPadding) - barPadding;\n",
        "var margin = { top: 10, right: 10, bottom: 10, left: 50 };\n",
        "var totalWidth = graphWidth + margin.left + margin.right;\n",
        "var totalHeight = maxValue + margin.top + margin.bottom;\n",
        "\n",
        "var svg = d3.select('body').append('svg').attrs({\n",
        "    'width': totalWidth,\n",
        "    'height': totalHeight\n",
        "});\n",
        "\n",
        "svg.append('rect').attrs({\n",
        "    width: totalWidth,\n",
        "    height: totalHeight,\n",
        "    fill: 'white',\n",
        "    stroke: 'black',\n",
        "    'stroke-width': 1\n",
        "});\n",
        "\n",
        "var chart = svg.append('g').attr('transform', 'translate(' + margin.left + ',' + margin.top + \")\");\n",
        "chart.append('rect').attrs({\n",
        "    fill: 'rgba(0,0,0,0.5)',\n",
        "    width: totalWidth - (margin.left + margin.right),\n",
        "    height: totalHeight - (margin.bottom + margin.top)\n",
        "});\n",
        "\n",
        "function xloc(d, i) { return i * (barWidth + barPadding); }\n",
        "function yloc(d) { return maxValue - d; }\n",
        "function translator(d, i) {\n",
        "    return \"translate(\" + xloc(d, i) + \",\" + yloc(d) + \")\";\n",
        "}\n",
        "\n",
        "var barGroups = chart.selectAll(\"g\")\n",
        "    .data(data)\n",
        "    .enter()\n",
        "    .append('g')\n",
        "    .attrs({'transform': translator});\n",
        "    \n",
        "barGroups.append('rect')\n",
        "    .attrs({\n",
        "        'fill': 'steelblue',\n",
        "        'width': barWidth,\n",
        "        'height': function(d) { return d; }\n",
        "    });\n",
        "\n",
        "var textTranslator = \"translate(\" + barWidth / 2 + \", 2)\";\n",
        "\n",
        "barGroups.append('text')\n",
        "    .attrs({\n",
        "        'transform': textTranslator,\n",
        "        'fill': 'white',\n",
        "        'alignment-baseline': 'before-edge',\n",
        "        'text-anchor': 'middle',  \n",
        "    })\n",
        "    .style('font', '10px sans-serif')\n",
        "    .text(function (d) { return d; });\n",
        "\n",
        "var scale = d3.scaleLinear()\n",
        "            .domain([maxValue, 0])\n",
        "            .range([0, maxValue]);\n",
        "\n",
        "var axisGroup = svg.append('g');\n",
        "var axis = d3.axisLeft().scale(scale);\n",
        "var axisPadding = 3;\n",
        "axisGroup.call(axis)\n",
        "    .attr('transform', \"translate(\" + (margin.left - axisPadding) + \",\" + margin.top + \")\");"
      ]
    },
    {
      "cell_type": "markdown",
      "id": "58282104",
      "metadata": {
        "id": "58282104"
      },
      "source": [
        "# Loading data"
      ]
    },
    {
      "cell_type": "code",
      "execution_count": 3,
      "id": "cab97a05",
      "metadata": {
        "colab": {
          "base_uri": "https://localhost:8080/",
          "height": 372
        },
        "id": "cab97a05",
        "outputId": "9774f25b-5a63-440f-d535-a672809a26c8"
      },
      "outputs": [
        {
          "output_type": "execute_result",
          "data": {
            "text/html": [
              "\n",
              "    <iframe\n",
              "        style=\"border: none\"\n",
              "        width=\"100%\"\n",
              "        height=\"350px\"\n",
              "        sandbox=\"allow-scripts allow-modals\"\n",
              "        referrerpolicy=\"no-referrer\"\n",
              "        src=\"data:text/html;charset=UTF-8,%0A%20%20%20%20%20%20%20%20%3Chtml%3E%0A%20%20%20%20%20%20%20%20%20%20%20%20%3Cbody%3E%0A%20%20%20%20%20%20%20%20%20%20%20%20%3Cscript%20src%3D%27https%3A%2F%2Fcdnjs.cloudflare.com%2Fajax%2Flibs%2Fd3%2F7.2.1%2Fd3.min.js%27%20integrity%3D%22sha512-wkduu4oQG74ySorPiSRStC0Zl8rQfjr%2FTy6dMvYTmjZw6RS5bferdx8TR7ynxeh79ySEp%2FbenIFFisKofMjPbg%3D%3D%22%20crossorigin%3D%22anonymous%22%3E%3C%2Fscript%3E%0A%20%20%20%20%20%20%20%20%20%20%20%20%3Cscript%20src%3D%27https%3A%2F%2Fd3js.org%2Fd3-selection-multi.v1.min.js%27%20crossorigin%3D%22anonymous%22%3E%3C%2Fscript%3E%0A%20%20%20%20%20%20%20%20%20%20%20%20%3Cscript%3Edocument.body.onload%20%3D%20function%20%28%29%20%7B%20var%20url%20%3D%20%22https%3A%2F%2Fgist.githubusercontent.com%2Fd3byex%2Fe5ce6526ba2208014379%2Fraw%2F8fefb14cc18f0440dc00248f23cbf6aec80dcc13%2Fwalking_dead_s5.json%22%3B%0Ad3.json%28url%29.then%28%0A%20%20%20%20function%28data%29%20%7B%0A%20%20%20%20%20%20%20%20d3.select%28%27body%27%29.append%28%27pre%27%29.text%28JSON.stringify%28data%2Cundefined%2C%202%29%29%3B%0A%20%20%20%20%7D%0A%29.catch%28%0A%20%20%20%20function%28err%29%20%7B%0A%20%20%20%20%20%20%20%20d3.select%28%27body%27%29.append%28%27p%27%29.text%28err%29%3B%0A%20%20%20%20%7D%0A%29%3B%0A%0Ad3.select%28%27body%27%29.append%28%27p%27%29.text%28%27Data%20in%20D3.js%20is%20loaded%20asynchronously%27%29%3B%20%7D%3C%2Fscript%3E%0A%20%20%20%20%20%20%20%20%20%20%20%20%3C%2Fbody%3E%0A%20%20%20%20%20%20%20%20%3C%2Fhtml%3E%0A%20%20%20%20%20%20%20%20\"\n",
              "    ></iframe>\n",
              "    "
            ],
            "text/plain": [
              "<IPython.core.display.HTML object>"
            ]
          },
          "metadata": {},
          "execution_count": 3
        }
      ],
      "source": [
        "%%d3\n",
        "var url = \"https://gist.githubusercontent.com/d3byex/e5ce6526ba2208014379/raw/8fefb14cc18f0440dc00248f23cbf6aec80dcc13/walking_dead_s5.json\";\n",
        "d3.json(url).then(\n",
        "    function(data) {\n",
        "        d3.select('body').append('pre').text(JSON.stringify(data,undefined, 2));\n",
        "    }\n",
        ").catch(\n",
        "    function(err) {\n",
        "        d3.select('body').append('p').text(err);\n",
        "    }\n",
        ");\n",
        "\n",
        "d3.select('body').append('p').text('Data in D3.js is loaded asynchronously');"
      ]
    }
  ],
  "metadata": {
    "kernelspec": {
      "display_name": "Python 3 (ipykernel)",
      "language": "python",
      "name": "python3"
    },
    "language_info": {
      "codemirror_mode": {
        "name": "ipython",
        "version": 3
      },
      "file_extension": ".py",
      "mimetype": "text/x-python",
      "name": "python",
      "nbconvert_exporter": "python",
      "pygments_lexer": "ipython3",
      "version": "3.7.3"
    },
    "colab": {
      "name": "d3-magic.ipynb",
      "provenance": [],
      "include_colab_link": true
    }
  },
  "nbformat": 4,
  "nbformat_minor": 5
}